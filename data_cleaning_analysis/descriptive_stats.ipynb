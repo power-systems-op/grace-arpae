{
 "cells": [
  {
   "cell_type": "code",
   "execution_count": 1,
   "metadata": {},
   "outputs": [
    {
     "name": "stderr",
     "output_type": "stream",
     "text": [
      "┌ Info: Precompiling FreqTables [da1fdf0e-e0ff-5433-a45f-9bb5ff651cb1]\n",
      "└ @ Base loading.jl:1278\n",
      "┌ Info: Precompiling Distributions [31c24e10-a181-5473-b8eb-7969acd0382f]\n",
      "└ @ Base loading.jl:1278\n",
      "┌ Info: Precompiling StatsPlots [f3b207a7-027a-5e70-b257-86293d7955fd]\n",
      "└ @ Base loading.jl:1278\n"
     ]
    }
   ],
   "source": [
    "using CSV, DelimitedFiles\n",
    "using BenchmarkTools, Logging, Dates\n",
    "using FreqTables\n",
    "# For random variable creation \n",
    "using Distributions   \n",
    "  \n",
    "# For basic statistical operations \n",
    "using StatsBase \n",
    "  \n",
    "# For reading and writing CSV files \n",
    "using CSV   \n",
    "  \n",
    "# For creation of Data Structures   \n",
    "using DataFrames   \n",
    "  \n",
    "# For representing various plots \n",
    "using StatsPlots "
   ]
  },
  {
   "cell_type": "markdown",
   "metadata": {},
   "source": [
    "## Loading Datasets"
   ]
  },
  {
   "cell_type": "code",
   "execution_count": 56,
   "metadata": {},
   "outputs": [],
   "source": [
    "dfForecastLoad = CSV.read(\"inputs/DEC_BA_PM(Forecast Load 2019).csv\", DataFrame; dateformat = \"mm/dd/yyyy HH:MM\", types = Dict(:DT => Date));\n",
    "dfBreakPtsSummer = CSV.read(\"inputs/HR_Breakpoints_Summer_DEC-DEP_(2019).csv\", DataFrame; dateformat = \"mm/dd/yyyy\", types = Dict(:BEGIN_DATE => Date));\n",
    "dfBreakPtsWinter = CSV.read(\"inputs/HR_Breakpoints_Winter_DEC-DEP_(2019).csv\", DataFrame; dateformat = \"mm/dd/yyyy\", types = Dict(:BEGIN_DATE => Date));\n",
    "dfUnitLookUpTb = CSV.read(\"inputs/UnitLookupAndDetailTable_(DEC-DEP).CSV\", DataFrame; dateformat = \"mm/dd/yyyy HH:MM:SS p\", types = Dict(:BEGIN_DATE => Date, :END_DATE => Date ));\n",
    "dfUnitSch = CSV.read(\"inputs/UnitSchedule_(DEC-DEP 2019).CSV\", DataFrame; dateformat = \"mm/dd/yyyy HH:MM:SS p\", types = Dict(:BEGIN_DATE => Date));\n",
    "\n",
    "dfHydroUnitRating = CSV.read(\"inputs/xHydroUnitRating_(DEC 2019).csv\", DataFrame);\n",
    "dfUnitCycleDEC = CSV.read(\"inputs/xUnitCycleLimit_(DEC 2019).csv\", DataFrame);\n",
    "dfUnitCycleDEP = CSV.read(\"inputs/xUnitCycleLimit_(DEP 2019).csv\", DataFrame);\n",
    "dfUnitRateSummer = CSV.read(\"inputs/xUnitRating_DEP-DEC-Summer (2019).csv\", DataFrame);\n",
    "dfUnitRateWinter = CSV.read(\"inputs/xUnitRating_DEP-DEC-Winter(2019).csv\", DataFrame);\n",
    "\n",
    "dfUnitStartUpDEC = CSV.read(\"inputs/xUnitStartupCharacteristic_(DEC 2019)_REV2.csv\", DataFrame; dateformat = \"mm/dd/yyyy HH:MM:SS p\", types = Dict(:BEGIN_DATE => Date));\n",
    "\n",
    "dfUnitStartUpDEP = CSV.read(\"inputs/xUnitStartupCharacteristic_(PEC 2019)_REV2.csv\", DataFrame; dateformat = \"mm/dd/yyyy HH:MM:SS p\", types = Dict(:BEGIN_DATE => Date));"
   ]
  },
  {
   "cell_type": "markdown",
   "metadata": {},
   "source": [
    "### File: DEC_BA_PM(Forecast Load 2019).csv"
   ]
  },
  {
   "cell_type": "code",
   "execution_count": 3,
   "metadata": {},
   "outputs": [
    {
     "data": {
      "text/plain": [
       "(8760, 35)"
      ]
     },
     "execution_count": 3,
     "metadata": {},
     "output_type": "execute_result"
    }
   ],
   "source": [
    "# number of rows and columns \n",
    "size(dfForecastLoad)"
   ]
  },
  {
   "cell_type": "code",
   "execution_count": 4,
   "metadata": {},
   "outputs": [
    {
     "data": {
      "text/html": [
       "<table class=\"data-frame\"><thead><tr><th></th><th>variable</th><th>mean</th><th>min</th><th>median</th><th>max</th><th>nunique</th><th>nmissing</th><th>eltype</th></tr><tr><th></th><th>Symbol</th><th>Union…</th><th>Any</th><th>Union…</th><th>Any</th><th>Union…</th><th>Nothing</th><th>DataType</th></tr></thead><tbody><p>35 rows × 8 columns</p><tr><th>1</th><td>Region</td><td></td><td>DEC</td><td></td><td>DEC</td><td>1</td><td></td><td>String</td></tr><tr><th>2</th><td>Model</td><td></td><td>UC</td><td></td><td>UC</td><td>1</td><td></td><td>String</td></tr><tr><th>3</th><td>ExportId</td><td></td><td>DEC_BA_PM</td><td></td><td>DEC_BA_PM</td><td>1</td><td></td><td>String</td></tr><tr><th>4</th><td>DT</td><td></td><td>2019-01-01</td><td></td><td>2019-12-31</td><td>365</td><td></td><td>Date</td></tr><tr><th>5</th><td>Year</td><td>2019.0</td><td>2019</td><td>2019.0</td><td>2019</td><td></td><td></td><td>Int64</td></tr><tr><th>6</th><td>Month</td><td>6.52603</td><td>1</td><td>7.0</td><td>12</td><td></td><td></td><td>Int64</td></tr><tr><th>7</th><td>Day</td><td>15.7205</td><td>1</td><td>16.0</td><td>31</td><td></td><td></td><td>Int64</td></tr><tr><th>8</th><td>Hour</td><td>11.5</td><td>0</td><td>11.5</td><td>23</td><td></td><td></td><td>Int64</td></tr><tr><th>9</th><td>Load_Actual</td><td>12188.8</td><td>7395</td><td>11609.5</td><td>20597</td><td></td><td></td><td>Int64</td></tr><tr><th>10</th><td>Forecast_BCCD</td><td>0.0</td><td>0</td><td>0.0</td><td>0</td><td></td><td></td><td>Int64</td></tr><tr><th>11</th><td>Forecast_BC1D</td><td>0.0</td><td>0</td><td>0.0</td><td>0</td><td></td><td></td><td>Int64</td></tr><tr><th>12</th><td>Forecast_CD</td><td>12254.2</td><td>7412</td><td>11690.5</td><td>20953</td><td></td><td></td><td>Int64</td></tr><tr><th>13</th><td>Forecast_1D</td><td>12257.0</td><td>7063</td><td>11679.5</td><td>21323</td><td></td><td></td><td>Int64</td></tr><tr><th>14</th><td>Forecast_2D</td><td>12264.0</td><td>7113</td><td>11664.0</td><td>21167</td><td></td><td></td><td>Int64</td></tr><tr><th>15</th><td>Forecast_3D</td><td>12262.2</td><td>7317</td><td>11645.0</td><td>21320</td><td></td><td></td><td>Int64</td></tr><tr><th>16</th><td>Forecast_4D</td><td>12268.0</td><td>7300</td><td>11663.5</td><td>21399</td><td></td><td></td><td>Int64</td></tr><tr><th>17</th><td>Forecast_5D</td><td>12301.3</td><td>7196</td><td>11706.0</td><td>20977</td><td></td><td></td><td>Int64</td></tr><tr><th>18</th><td>Forecast_6D</td><td>12319.1</td><td>7196</td><td>11737.5</td><td>21366</td><td></td><td></td><td>Int64</td></tr><tr><th>19</th><td>DB_Actual</td><td>62.5123</td><td>19</td><td>65.0</td><td>96</td><td></td><td></td><td>Int64</td></tr><tr><th>20</th><td>DB_CD</td><td>62.5764</td><td>19</td><td>64.5</td><td>97</td><td></td><td></td><td>Int64</td></tr><tr><th>21</th><td>DB_1D</td><td>62.2878</td><td>17</td><td>64.0</td><td>97</td><td></td><td></td><td>Int64</td></tr><tr><th>22</th><td>DB_2D</td><td>62.4808</td><td>17</td><td>64.0</td><td>97</td><td></td><td></td><td>Int64</td></tr><tr><th>23</th><td>DB_3D</td><td>62.8598</td><td>17</td><td>64.0</td><td>96</td><td></td><td></td><td>Int64</td></tr><tr><th>24</th><td>DB_4D</td><td>62.8737</td><td>18</td><td>65.0</td><td>97</td><td></td><td></td><td>Int64</td></tr><tr><th>25</th><td>DB_5D</td><td>62.5113</td><td>18</td><td>64.0</td><td>97</td><td></td><td></td><td>Int64</td></tr><tr><th>26</th><td>DB_6D</td><td>62.1808</td><td>16</td><td>64.0</td><td>96</td><td></td><td></td><td>Int64</td></tr><tr><th>27</th><td>DP_Actual</td><td>49.8128</td><td>-4</td><td>54.0</td><td>75</td><td></td><td></td><td>Int64</td></tr><tr><th>28</th><td>DP_CD</td><td>49.7183</td><td>-5</td><td>53.0</td><td>74</td><td></td><td></td><td>Int64</td></tr><tr><th>29</th><td>DP_1D</td><td>49.5701</td><td>-4</td><td>53.0</td><td>74</td><td></td><td></td><td>Int64</td></tr><tr><th>30</th><td>DP_2D</td><td>49.5836</td><td>0</td><td>54.0</td><td>74</td><td></td><td></td><td>Int64</td></tr><tr><th>&vellip;</th><td>&vellip;</td><td>&vellip;</td><td>&vellip;</td><td>&vellip;</td><td>&vellip;</td><td>&vellip;</td><td>&vellip;</td><td>&vellip;</td></tr></tbody></table>"
      ],
      "text/latex": [
       "\\begin{tabular}{r|cccccccc}\n",
       "\t& variable & mean & min & median & max & nunique & nmissing & eltype\\\\\n",
       "\t\\hline\n",
       "\t& Symbol & Union… & Any & Union… & Any & Union… & Nothing & DataType\\\\\n",
       "\t\\hline\n",
       "\t1 & Region &  & DEC &  & DEC & 1 &  & String \\\\\n",
       "\t2 & Model &  & UC &  & UC & 1 &  & String \\\\\n",
       "\t3 & ExportId &  & DEC\\_BA\\_PM &  & DEC\\_BA\\_PM & 1 &  & String \\\\\n",
       "\t4 & DT &  & 2019-01-01 &  & 2019-12-31 & 365 &  & Date \\\\\n",
       "\t5 & Year & 2019.0 & 2019 & 2019.0 & 2019 &  &  & Int64 \\\\\n",
       "\t6 & Month & 6.52603 & 1 & 7.0 & 12 &  &  & Int64 \\\\\n",
       "\t7 & Day & 15.7205 & 1 & 16.0 & 31 &  &  & Int64 \\\\\n",
       "\t8 & Hour & 11.5 & 0 & 11.5 & 23 &  &  & Int64 \\\\\n",
       "\t9 & Load\\_Actual & 12188.8 & 7395 & 11609.5 & 20597 &  &  & Int64 \\\\\n",
       "\t10 & Forecast\\_BCCD & 0.0 & 0 & 0.0 & 0 &  &  & Int64 \\\\\n",
       "\t11 & Forecast\\_BC1D & 0.0 & 0 & 0.0 & 0 &  &  & Int64 \\\\\n",
       "\t12 & Forecast\\_CD & 12254.2 & 7412 & 11690.5 & 20953 &  &  & Int64 \\\\\n",
       "\t13 & Forecast\\_1D & 12257.0 & 7063 & 11679.5 & 21323 &  &  & Int64 \\\\\n",
       "\t14 & Forecast\\_2D & 12264.0 & 7113 & 11664.0 & 21167 &  &  & Int64 \\\\\n",
       "\t15 & Forecast\\_3D & 12262.2 & 7317 & 11645.0 & 21320 &  &  & Int64 \\\\\n",
       "\t16 & Forecast\\_4D & 12268.0 & 7300 & 11663.5 & 21399 &  &  & Int64 \\\\\n",
       "\t17 & Forecast\\_5D & 12301.3 & 7196 & 11706.0 & 20977 &  &  & Int64 \\\\\n",
       "\t18 & Forecast\\_6D & 12319.1 & 7196 & 11737.5 & 21366 &  &  & Int64 \\\\\n",
       "\t19 & DB\\_Actual & 62.5123 & 19 & 65.0 & 96 &  &  & Int64 \\\\\n",
       "\t20 & DB\\_CD & 62.5764 & 19 & 64.5 & 97 &  &  & Int64 \\\\\n",
       "\t21 & DB\\_1D & 62.2878 & 17 & 64.0 & 97 &  &  & Int64 \\\\\n",
       "\t22 & DB\\_2D & 62.4808 & 17 & 64.0 & 97 &  &  & Int64 \\\\\n",
       "\t23 & DB\\_3D & 62.8598 & 17 & 64.0 & 96 &  &  & Int64 \\\\\n",
       "\t24 & DB\\_4D & 62.8737 & 18 & 65.0 & 97 &  &  & Int64 \\\\\n",
       "\t25 & DB\\_5D & 62.5113 & 18 & 64.0 & 97 &  &  & Int64 \\\\\n",
       "\t26 & DB\\_6D & 62.1808 & 16 & 64.0 & 96 &  &  & Int64 \\\\\n",
       "\t27 & DP\\_Actual & 49.8128 & -4 & 54.0 & 75 &  &  & Int64 \\\\\n",
       "\t28 & DP\\_CD & 49.7183 & -5 & 53.0 & 74 &  &  & Int64 \\\\\n",
       "\t29 & DP\\_1D & 49.5701 & -4 & 53.0 & 74 &  &  & Int64 \\\\\n",
       "\t30 & DP\\_2D & 49.5836 & 0 & 54.0 & 74 &  &  & Int64 \\\\\n",
       "\t$\\dots$ & $\\dots$ & $\\dots$ & $\\dots$ & $\\dots$ & $\\dots$ & $\\dots$ & $\\dots$ & $\\dots$ \\\\\n",
       "\\end{tabular}\n"
      ],
      "text/plain": [
       "35×8 DataFrame. Omitted printing of 2 columns\n",
       "│ Row │ variable      │ mean    │ min        │ median  │ max        │ nunique │\n",
       "│     │ \u001b[90mSymbol\u001b[39m        │ \u001b[90mUnion…\u001b[39m  │ \u001b[90mAny\u001b[39m        │ \u001b[90mUnion…\u001b[39m  │ \u001b[90mAny\u001b[39m        │ \u001b[90mUnion…\u001b[39m  │\n",
       "├─────┼───────────────┼─────────┼────────────┼─────────┼────────────┼─────────┤\n",
       "│ 1   │ Region        │         │ DEC        │         │ DEC        │ 1       │\n",
       "│ 2   │ Model         │         │ UC         │         │ UC         │ 1       │\n",
       "│ 3   │ ExportId      │         │ DEC_BA_PM  │         │ DEC_BA_PM  │ 1       │\n",
       "│ 4   │ DT            │         │ 2019-01-01 │         │ 2019-12-31 │ 365     │\n",
       "│ 5   │ Year          │ 2019.0  │ 2019       │ 2019.0  │ 2019       │         │\n",
       "│ 6   │ Month         │ 6.52603 │ 1          │ 7.0     │ 12         │         │\n",
       "│ 7   │ Day           │ 15.7205 │ 1          │ 16.0    │ 31         │         │\n",
       "│ 8   │ Hour          │ 11.5    │ 0          │ 11.5    │ 23         │         │\n",
       "│ 9   │ Load_Actual   │ 12188.8 │ 7395       │ 11609.5 │ 20597      │         │\n",
       "│ 10  │ Forecast_BCCD │ 0.0     │ 0          │ 0.0     │ 0          │         │\n",
       "⋮\n",
       "│ 25  │ DB_5D         │ 62.5113 │ 18         │ 64.0    │ 97         │         │\n",
       "│ 26  │ DB_6D         │ 62.1808 │ 16         │ 64.0    │ 96         │         │\n",
       "│ 27  │ DP_Actual     │ 49.8128 │ -4         │ 54.0    │ 75         │         │\n",
       "│ 28  │ DP_CD         │ 49.7183 │ -5         │ 53.0    │ 74         │         │\n",
       "│ 29  │ DP_1D         │ 49.5701 │ -4         │ 53.0    │ 74         │         │\n",
       "│ 30  │ DP_2D         │ 49.5836 │ 0          │ 54.0    │ 74         │         │\n",
       "│ 31  │ DP_3D         │ 50.2213 │ 6          │ 54.0    │ 73         │         │\n",
       "│ 32  │ DP_4D         │ 50.2772 │ 0          │ 53.0    │ 73         │         │\n",
       "│ 33  │ DP_5D         │ 49.8178 │ 0          │ 52.0    │ 74         │         │\n",
       "│ 34  │ DP_6D         │ 49.2499 │ -2         │ 51.0    │ 74         │         │\n",
       "│ 35  │ IsBad         │ 0.0     │ 0          │ 0.0     │ 0          │         │"
      ]
     },
     "execution_count": 4,
     "metadata": {},
     "output_type": "execute_result"
    }
   ],
   "source": [
    "describe(dfForecastLoad)"
   ]
  },
  {
   "cell_type": "code",
   "execution_count": 5,
   "metadata": {},
   "outputs": [
    {
     "data": {
      "text/html": [
       "<table class=\"data-frame\"><thead><tr><th></th><th>Region</th><th>Model</th><th>ExportId</th><th>DT</th><th>Year</th><th>Month</th><th>Day</th><th>Hour</th><th>Load_Actual</th></tr><tr><th></th><th>String</th><th>String</th><th>String</th><th>Date</th><th>Int64</th><th>Int64</th><th>Int64</th><th>Int64</th><th>Int64</th></tr></thead><tbody><p>5 rows × 35 columns (omitted printing of 26 columns)</p><tr><th>1</th><td>DEC</td><td>UC</td><td>DEC_BA_PM</td><td>2019-01-01</td><td>2019</td><td>1</td><td>1</td><td>0</td><td>8377</td></tr><tr><th>2</th><td>DEC</td><td>UC</td><td>DEC_BA_PM</td><td>2019-01-01</td><td>2019</td><td>1</td><td>1</td><td>1</td><td>8035</td></tr><tr><th>3</th><td>DEC</td><td>UC</td><td>DEC_BA_PM</td><td>2019-01-01</td><td>2019</td><td>1</td><td>1</td><td>2</td><td>7746</td></tr><tr><th>4</th><td>DEC</td><td>UC</td><td>DEC_BA_PM</td><td>2019-01-01</td><td>2019</td><td>1</td><td>1</td><td>3</td><td>7590</td></tr><tr><th>5</th><td>DEC</td><td>UC</td><td>DEC_BA_PM</td><td>2019-01-01</td><td>2019</td><td>1</td><td>1</td><td>4</td><td>7549</td></tr></tbody></table>"
      ],
      "text/latex": [
       "\\begin{tabular}{r|cccccccccc}\n",
       "\t& Region & Model & ExportId & DT & Year & Month & Day & Hour & Load\\_Actual & \\\\\n",
       "\t\\hline\n",
       "\t& String & String & String & Date & Int64 & Int64 & Int64 & Int64 & Int64 & \\\\\n",
       "\t\\hline\n",
       "\t1 & DEC & UC & DEC\\_BA\\_PM & 2019-01-01 & 2019 & 1 & 1 & 0 & 8377 & $\\dots$ \\\\\n",
       "\t2 & DEC & UC & DEC\\_BA\\_PM & 2019-01-01 & 2019 & 1 & 1 & 1 & 8035 & $\\dots$ \\\\\n",
       "\t3 & DEC & UC & DEC\\_BA\\_PM & 2019-01-01 & 2019 & 1 & 1 & 2 & 7746 & $\\dots$ \\\\\n",
       "\t4 & DEC & UC & DEC\\_BA\\_PM & 2019-01-01 & 2019 & 1 & 1 & 3 & 7590 & $\\dots$ \\\\\n",
       "\t5 & DEC & UC & DEC\\_BA\\_PM & 2019-01-01 & 2019 & 1 & 1 & 4 & 7549 & $\\dots$ \\\\\n",
       "\\end{tabular}\n"
      ],
      "text/plain": [
       "5×35 DataFrame. Omitted printing of 28 columns\n",
       "│ Row │ Region │ Model  │ ExportId  │ DT         │ Year  │ Month │ Day   │\n",
       "│     │ \u001b[90mString\u001b[39m │ \u001b[90mString\u001b[39m │ \u001b[90mString\u001b[39m    │ \u001b[90mDate\u001b[39m       │ \u001b[90mInt64\u001b[39m │ \u001b[90mInt64\u001b[39m │ \u001b[90mInt64\u001b[39m │\n",
       "├─────┼────────┼────────┼───────────┼────────────┼───────┼───────┼───────┤\n",
       "│ 1   │ DEC    │ UC     │ DEC_BA_PM │ 2019-01-01 │ 2019  │ 1     │ 1     │\n",
       "│ 2   │ DEC    │ UC     │ DEC_BA_PM │ 2019-01-01 │ 2019  │ 1     │ 1     │\n",
       "│ 3   │ DEC    │ UC     │ DEC_BA_PM │ 2019-01-01 │ 2019  │ 1     │ 1     │\n",
       "│ 4   │ DEC    │ UC     │ DEC_BA_PM │ 2019-01-01 │ 2019  │ 1     │ 1     │\n",
       "│ 5   │ DEC    │ UC     │ DEC_BA_PM │ 2019-01-01 │ 2019  │ 1     │ 1     │"
      ]
     },
     "execution_count": 5,
     "metadata": {},
     "output_type": "execute_result"
    }
   ],
   "source": [
    "first(dfForecastLoad, 5)"
   ]
  },
  {
   "cell_type": "markdown",
   "metadata": {},
   "source": [
    "### File: HR_Breakpoints_Summer_DEC-DEP_(2019).csv"
   ]
  },
  {
   "cell_type": "code",
   "execution_count": 6,
   "metadata": {},
   "outputs": [
    {
     "data": {
      "text/plain": [
       "(1184, 14)"
      ]
     },
     "execution_count": 6,
     "metadata": {},
     "output_type": "execute_result"
    }
   ],
   "source": [
    "size(dfBreakPtsSummer)"
   ]
  },
  {
   "cell_type": "code",
   "execution_count": 7,
   "metadata": {},
   "outputs": [
    {
     "data": {
      "text/html": [
       "<table class=\"data-frame\"><thead><tr><th></th><th>variable</th><th>mean</th><th>min</th><th>median</th><th>max</th><th>nunique</th><th>nmissing</th><th>eltype</th></tr><tr><th></th><th>Symbol</th><th>Union…</th><th>Any</th><th>Union…</th><th>Any</th><th>Union…</th><th>Nothing</th><th>DataType</th></tr></thead><tbody><p>14 rows × 8 columns</p><tr><th>1</th><td>UNIT_NAME</td><td></td><td>ALLE_UN01</td><td></td><td>WSPN_CT01</td><td>119</td><td></td><td>String</td></tr><tr><th>2</th><td>CC_KEY</td><td>0.472973</td><td>0</td><td>0.0</td><td>4</td><td></td><td></td><td>Int64</td></tr><tr><th>3</th><td>BEGIN_DATE</td><td></td><td>2019-06-01</td><td></td><td>2019-06-01</td><td>1</td><td></td><td>Date</td></tr><tr><th>4</th><td>TIMEZONE</td><td></td><td>EDT</td><td></td><td>EDT</td><td>1</td><td></td><td>String</td></tr><tr><th>5</th><td>EDITION</td><td></td><td>Actual</td><td></td><td>Actual</td><td>1</td><td></td><td>String</td></tr><tr><th>6</th><td>NOLOAD_HEAT</td><td>447.538</td><td>7.7586</td><td>364.532</td><td>1598.7</td><td></td><td></td><td>Float64</td></tr><tr><th>7</th><td>NOLOAD_NOX</td><td>44.4789</td><td>0.0</td><td>22.008</td><td>464.916</td><td></td><td></td><td>Float64</td></tr><tr><th>8</th><td>NUM_POINTS</td><td>8.0</td><td>8</td><td>8.0</td><td>8</td><td></td><td></td><td>Int64</td></tr><tr><th>9</th><td>POINT</td><td>4.5</td><td>1</td><td>4.5</td><td>8</td><td></td><td></td><td>Int64</td></tr><tr><th>10</th><td>MW</td><td>211.463</td><td>1.0</td><td>97.5</td><td>1438.0</td><td></td><td></td><td>Float64</td></tr><tr><th>11</th><td>IHR</td><td>9.08039</td><td>4.1088</td><td>9.02775</td><td>17.2583</td><td></td><td></td><td>Float64</td></tr><tr><th>12</th><td>NOX</td><td>1.11013</td><td>0.0</td><td>0.692286</td><td>15.3303</td><td></td><td></td><td>Float64</td></tr><tr><th>13</th><td>SO2</td><td>0.0284365</td><td>0.0</td><td>0.0</td><td>0.28</td><td></td><td></td><td>Float64</td></tr><tr><th>14</th><td>EFFICIENCY</td><td>1.0</td><td>1</td><td>1.0</td><td>1</td><td></td><td></td><td>Int64</td></tr></tbody></table>"
      ],
      "text/latex": [
       "\\begin{tabular}{r|cccccccc}\n",
       "\t& variable & mean & min & median & max & nunique & nmissing & eltype\\\\\n",
       "\t\\hline\n",
       "\t& Symbol & Union… & Any & Union… & Any & Union… & Nothing & DataType\\\\\n",
       "\t\\hline\n",
       "\t1 & UNIT\\_NAME &  & ALLE\\_UN01 &  & WSPN\\_CT01 & 119 &  & String \\\\\n",
       "\t2 & CC\\_KEY & 0.472973 & 0 & 0.0 & 4 &  &  & Int64 \\\\\n",
       "\t3 & BEGIN\\_DATE &  & 2019-06-01 &  & 2019-06-01 & 1 &  & Date \\\\\n",
       "\t4 & TIMEZONE &  & EDT &  & EDT & 1 &  & String \\\\\n",
       "\t5 & EDITION &  & Actual &  & Actual & 1 &  & String \\\\\n",
       "\t6 & NOLOAD\\_HEAT & 447.538 & 7.7586 & 364.532 & 1598.7 &  &  & Float64 \\\\\n",
       "\t7 & NOLOAD\\_NOX & 44.4789 & 0.0 & 22.008 & 464.916 &  &  & Float64 \\\\\n",
       "\t8 & NUM\\_POINTS & 8.0 & 8 & 8.0 & 8 &  &  & Int64 \\\\\n",
       "\t9 & POINT & 4.5 & 1 & 4.5 & 8 &  &  & Int64 \\\\\n",
       "\t10 & MW & 211.463 & 1.0 & 97.5 & 1438.0 &  &  & Float64 \\\\\n",
       "\t11 & IHR & 9.08039 & 4.1088 & 9.02775 & 17.2583 &  &  & Float64 \\\\\n",
       "\t12 & NOX & 1.11013 & 0.0 & 0.692286 & 15.3303 &  &  & Float64 \\\\\n",
       "\t13 & SO2 & 0.0284365 & 0.0 & 0.0 & 0.28 &  &  & Float64 \\\\\n",
       "\t14 & EFFICIENCY & 1.0 & 1 & 1.0 & 1 &  &  & Int64 \\\\\n",
       "\\end{tabular}\n"
      ],
      "text/plain": [
       "14×8 DataFrame. Omitted printing of 2 columns\n",
       "│ Row │ variable    │ mean      │ min        │ median   │ max        │ nunique │\n",
       "│     │ \u001b[90mSymbol\u001b[39m      │ \u001b[90mUnion…\u001b[39m    │ \u001b[90mAny\u001b[39m        │ \u001b[90mUnion…\u001b[39m   │ \u001b[90mAny\u001b[39m        │ \u001b[90mUnion…\u001b[39m  │\n",
       "├─────┼─────────────┼───────────┼────────────┼──────────┼────────────┼─────────┤\n",
       "│ 1   │ UNIT_NAME   │           │ ALLE_UN01  │          │ WSPN_CT01  │ 119     │\n",
       "│ 2   │ CC_KEY      │ 0.472973  │ 0          │ 0.0      │ 4          │         │\n",
       "│ 3   │ BEGIN_DATE  │           │ 2019-06-01 │          │ 2019-06-01 │ 1       │\n",
       "│ 4   │ TIMEZONE    │           │ EDT        │          │ EDT        │ 1       │\n",
       "│ 5   │ EDITION     │           │ Actual     │          │ Actual     │ 1       │\n",
       "│ 6   │ NOLOAD_HEAT │ 447.538   │ 7.7586     │ 364.532  │ 1598.7     │         │\n",
       "│ 7   │ NOLOAD_NOX  │ 44.4789   │ 0.0        │ 22.008   │ 464.916    │         │\n",
       "│ 8   │ NUM_POINTS  │ 8.0       │ 8          │ 8.0      │ 8          │         │\n",
       "│ 9   │ POINT       │ 4.5       │ 1          │ 4.5      │ 8          │         │\n",
       "│ 10  │ MW          │ 211.463   │ 1.0        │ 97.5     │ 1438.0     │         │\n",
       "│ 11  │ IHR         │ 9.08039   │ 4.1088     │ 9.02775  │ 17.2583    │         │\n",
       "│ 12  │ NOX         │ 1.11013   │ 0.0        │ 0.692286 │ 15.3303    │         │\n",
       "│ 13  │ SO2         │ 0.0284365 │ 0.0        │ 0.0      │ 0.28       │         │\n",
       "│ 14  │ EFFICIENCY  │ 1.0       │ 1          │ 1.0      │ 1          │         │"
      ]
     },
     "execution_count": 7,
     "metadata": {},
     "output_type": "execute_result"
    }
   ],
   "source": [
    "describe(dfBreakPtsSummer)"
   ]
  },
  {
   "cell_type": "markdown",
   "metadata": {},
   "source": [
    "### File: HR_Breakpoints_Winter_DEC-DEP_(2019).csv"
   ]
  },
  {
   "cell_type": "code",
   "execution_count": 8,
   "metadata": {},
   "outputs": [
    {
     "data": {
      "text/plain": [
       "(1192, 14)"
      ]
     },
     "execution_count": 8,
     "metadata": {},
     "output_type": "execute_result"
    }
   ],
   "source": [
    "size(dfBreakPtsWinter)"
   ]
  },
  {
   "cell_type": "code",
   "execution_count": 9,
   "metadata": {},
   "outputs": [
    {
     "data": {
      "text/html": [
       "<table class=\"data-frame\"><thead><tr><th></th><th>variable</th><th>mean</th><th>min</th><th>median</th><th>max</th><th>nunique</th><th>nmissing</th><th>eltype</th></tr><tr><th></th><th>Symbol</th><th>Union…</th><th>Any</th><th>Union…</th><th>Any</th><th>Union…</th><th>Nothing</th><th>DataType</th></tr></thead><tbody><p>14 rows × 8 columns</p><tr><th>1</th><td>UNIT_NAME</td><td></td><td>ALLE_UN01</td><td></td><td>WSPN_CT01</td><td>120</td><td></td><td>String</td></tr><tr><th>2</th><td>CC_KEY</td><td>0.469799</td><td>0</td><td>0.0</td><td>4</td><td></td><td></td><td>Int64</td></tr><tr><th>3</th><td>BEGIN_DATE</td><td></td><td>2019-12-01</td><td></td><td>2019-12-01</td><td>1</td><td></td><td>Date</td></tr><tr><th>4</th><td>TIMEZONE</td><td></td><td>EDT</td><td></td><td>EDT</td><td>1</td><td></td><td>String</td></tr><tr><th>5</th><td>EDITION</td><td></td><td>Actual</td><td></td><td>Actual</td><td>1</td><td></td><td>String</td></tr><tr><th>6</th><td>NOLOAD_HEAT</td><td>435.706</td><td>7.7586</td><td>364.532</td><td>1758.58</td><td></td><td></td><td>Float64</td></tr><tr><th>7</th><td>NOLOAD_NOX</td><td>44.1635</td><td>0.0</td><td>21.9329</td><td>538.696</td><td></td><td></td><td>Float64</td></tr><tr><th>8</th><td>NUM_POINTS</td><td>8.0</td><td>8</td><td>8.0</td><td>8</td><td></td><td></td><td>Int64</td></tr><tr><th>9</th><td>POINT</td><td>4.5</td><td>1</td><td>4.5</td><td>8</td><td></td><td></td><td>Int64</td></tr><tr><th>10</th><td>MW</td><td>221.64</td><td>1.0</td><td>100.0</td><td>1606.0</td><td></td><td></td><td>Float64</td></tr><tr><th>11</th><td>IHR</td><td>9.60371</td><td>3.8886</td><td>8.9696</td><td>29.4897</td><td></td><td></td><td>Float64</td></tr><tr><th>12</th><td>NOX</td><td>1.24301</td><td>0.0</td><td>0.702374</td><td>17.1252</td><td></td><td></td><td>Float64</td></tr><tr><th>13</th><td>SO2</td><td>0.029251</td><td>0.0</td><td>0.0</td><td>0.28</td><td></td><td></td><td>Float64</td></tr><tr><th>14</th><td>EFFICIENCY</td><td>1.0</td><td>1</td><td>1.0</td><td>1</td><td></td><td></td><td>Int64</td></tr></tbody></table>"
      ],
      "text/latex": [
       "\\begin{tabular}{r|cccccccc}\n",
       "\t& variable & mean & min & median & max & nunique & nmissing & eltype\\\\\n",
       "\t\\hline\n",
       "\t& Symbol & Union… & Any & Union… & Any & Union… & Nothing & DataType\\\\\n",
       "\t\\hline\n",
       "\t1 & UNIT\\_NAME &  & ALLE\\_UN01 &  & WSPN\\_CT01 & 120 &  & String \\\\\n",
       "\t2 & CC\\_KEY & 0.469799 & 0 & 0.0 & 4 &  &  & Int64 \\\\\n",
       "\t3 & BEGIN\\_DATE &  & 2019-12-01 &  & 2019-12-01 & 1 &  & Date \\\\\n",
       "\t4 & TIMEZONE &  & EDT &  & EDT & 1 &  & String \\\\\n",
       "\t5 & EDITION &  & Actual &  & Actual & 1 &  & String \\\\\n",
       "\t6 & NOLOAD\\_HEAT & 435.706 & 7.7586 & 364.532 & 1758.58 &  &  & Float64 \\\\\n",
       "\t7 & NOLOAD\\_NOX & 44.1635 & 0.0 & 21.9329 & 538.696 &  &  & Float64 \\\\\n",
       "\t8 & NUM\\_POINTS & 8.0 & 8 & 8.0 & 8 &  &  & Int64 \\\\\n",
       "\t9 & POINT & 4.5 & 1 & 4.5 & 8 &  &  & Int64 \\\\\n",
       "\t10 & MW & 221.64 & 1.0 & 100.0 & 1606.0 &  &  & Float64 \\\\\n",
       "\t11 & IHR & 9.60371 & 3.8886 & 8.9696 & 29.4897 &  &  & Float64 \\\\\n",
       "\t12 & NOX & 1.24301 & 0.0 & 0.702374 & 17.1252 &  &  & Float64 \\\\\n",
       "\t13 & SO2 & 0.029251 & 0.0 & 0.0 & 0.28 &  &  & Float64 \\\\\n",
       "\t14 & EFFICIENCY & 1.0 & 1 & 1.0 & 1 &  &  & Int64 \\\\\n",
       "\\end{tabular}\n"
      ],
      "text/plain": [
       "14×8 DataFrame. Omitted printing of 2 columns\n",
       "│ Row │ variable    │ mean     │ min        │ median   │ max        │ nunique │\n",
       "│     │ \u001b[90mSymbol\u001b[39m      │ \u001b[90mUnion…\u001b[39m   │ \u001b[90mAny\u001b[39m        │ \u001b[90mUnion…\u001b[39m   │ \u001b[90mAny\u001b[39m        │ \u001b[90mUnion…\u001b[39m  │\n",
       "├─────┼─────────────┼──────────┼────────────┼──────────┼────────────┼─────────┤\n",
       "│ 1   │ UNIT_NAME   │          │ ALLE_UN01  │          │ WSPN_CT01  │ 120     │\n",
       "│ 2   │ CC_KEY      │ 0.469799 │ 0          │ 0.0      │ 4          │         │\n",
       "│ 3   │ BEGIN_DATE  │          │ 2019-12-01 │          │ 2019-12-01 │ 1       │\n",
       "│ 4   │ TIMEZONE    │          │ EDT        │          │ EDT        │ 1       │\n",
       "│ 5   │ EDITION     │          │ Actual     │          │ Actual     │ 1       │\n",
       "│ 6   │ NOLOAD_HEAT │ 435.706  │ 7.7586     │ 364.532  │ 1758.58    │         │\n",
       "│ 7   │ NOLOAD_NOX  │ 44.1635  │ 0.0        │ 21.9329  │ 538.696    │         │\n",
       "│ 8   │ NUM_POINTS  │ 8.0      │ 8          │ 8.0      │ 8          │         │\n",
       "│ 9   │ POINT       │ 4.5      │ 1          │ 4.5      │ 8          │         │\n",
       "│ 10  │ MW          │ 221.64   │ 1.0        │ 100.0    │ 1606.0     │         │\n",
       "│ 11  │ IHR         │ 9.60371  │ 3.8886     │ 8.9696   │ 29.4897    │         │\n",
       "│ 12  │ NOX         │ 1.24301  │ 0.0        │ 0.702374 │ 17.1252    │         │\n",
       "│ 13  │ SO2         │ 0.029251 │ 0.0        │ 0.0      │ 0.28       │         │\n",
       "│ 14  │ EFFICIENCY  │ 1.0      │ 1          │ 1.0      │ 1          │         │"
      ]
     },
     "execution_count": 9,
     "metadata": {},
     "output_type": "execute_result"
    }
   ],
   "source": [
    "describe(dfBreakPtsWinter)"
   ]
  },
  {
   "cell_type": "code",
   "execution_count": 10,
   "metadata": {},
   "outputs": [
    {
     "data": {
      "text/html": [
       "<table class=\"data-frame\"><thead><tr><th></th><th>UNIT_NAME</th><th>CC_KEY</th><th>BEGIN_DATE</th><th>TIMEZONE</th><th>EDITION</th><th>NOLOAD_HEAT</th><th>NOLOAD_NOX</th><th>NUM_POINTS</th></tr><tr><th></th><th>String</th><th>Int64</th><th>Date</th><th>String</th><th>String</th><th>Float64</th><th>Float64</th><th>Int64</th></tr></thead><tbody><p>5 rows × 14 columns (omitted printing of 6 columns)</p><tr><th>1</th><td>ALLE_UN01</td><td>0</td><td>2019-12-01</td><td>EDT</td><td>Actual</td><td>146.117</td><td>32.1457</td><td>8</td></tr><tr><th>2</th><td>ALLE_UN01</td><td>0</td><td>2019-12-01</td><td>EDT</td><td>Actual</td><td>146.117</td><td>32.1457</td><td>8</td></tr><tr><th>3</th><td>ALLE_UN01</td><td>0</td><td>2019-12-01</td><td>EDT</td><td>Actual</td><td>146.117</td><td>32.1457</td><td>8</td></tr><tr><th>4</th><td>ALLE_UN01</td><td>0</td><td>2019-12-01</td><td>EDT</td><td>Actual</td><td>146.117</td><td>32.1457</td><td>8</td></tr><tr><th>5</th><td>ALLE_UN01</td><td>0</td><td>2019-12-01</td><td>EDT</td><td>Actual</td><td>146.117</td><td>32.1457</td><td>8</td></tr></tbody></table>"
      ],
      "text/latex": [
       "\\begin{tabular}{r|ccccccccc}\n",
       "\t& UNIT\\_NAME & CC\\_KEY & BEGIN\\_DATE & TIMEZONE & EDITION & NOLOAD\\_HEAT & NOLOAD\\_NOX & NUM\\_POINTS & \\\\\n",
       "\t\\hline\n",
       "\t& String & Int64 & Date & String & String & Float64 & Float64 & Int64 & \\\\\n",
       "\t\\hline\n",
       "\t1 & ALLE\\_UN01 & 0 & 2019-12-01 & EDT & Actual & 146.117 & 32.1457 & 8 & $\\dots$ \\\\\n",
       "\t2 & ALLE\\_UN01 & 0 & 2019-12-01 & EDT & Actual & 146.117 & 32.1457 & 8 & $\\dots$ \\\\\n",
       "\t3 & ALLE\\_UN01 & 0 & 2019-12-01 & EDT & Actual & 146.117 & 32.1457 & 8 & $\\dots$ \\\\\n",
       "\t4 & ALLE\\_UN01 & 0 & 2019-12-01 & EDT & Actual & 146.117 & 32.1457 & 8 & $\\dots$ \\\\\n",
       "\t5 & ALLE\\_UN01 & 0 & 2019-12-01 & EDT & Actual & 146.117 & 32.1457 & 8 & $\\dots$ \\\\\n",
       "\\end{tabular}\n"
      ],
      "text/plain": [
       "5×14 DataFrame. Omitted printing of 8 columns\n",
       "│ Row │ UNIT_NAME │ CC_KEY │ BEGIN_DATE │ TIMEZONE │ EDITION │ NOLOAD_HEAT │\n",
       "│     │ \u001b[90mString\u001b[39m    │ \u001b[90mInt64\u001b[39m  │ \u001b[90mDate\u001b[39m       │ \u001b[90mString\u001b[39m   │ \u001b[90mString\u001b[39m  │ \u001b[90mFloat64\u001b[39m     │\n",
       "├─────┼───────────┼────────┼────────────┼──────────┼─────────┼─────────────┤\n",
       "│ 1   │ ALLE_UN01 │ 0      │ 2019-12-01 │ EDT      │ Actual  │ 146.117     │\n",
       "│ 2   │ ALLE_UN01 │ 0      │ 2019-12-01 │ EDT      │ Actual  │ 146.117     │\n",
       "│ 3   │ ALLE_UN01 │ 0      │ 2019-12-01 │ EDT      │ Actual  │ 146.117     │\n",
       "│ 4   │ ALLE_UN01 │ 0      │ 2019-12-01 │ EDT      │ Actual  │ 146.117     │\n",
       "│ 5   │ ALLE_UN01 │ 0      │ 2019-12-01 │ EDT      │ Actual  │ 146.117     │"
      ]
     },
     "execution_count": 10,
     "metadata": {},
     "output_type": "execute_result"
    }
   ],
   "source": [
    "first(dfBreakPtsWinter, 5)"
   ]
  },
  {
   "cell_type": "markdown",
   "metadata": {},
   "source": [
    "### File: UnitLookupAndDetailTable_(DEC-DEP).CSV"
   ]
  },
  {
   "cell_type": "code",
   "execution_count": 11,
   "metadata": {},
   "outputs": [
    {
     "data": {
      "text/plain": [
       "(173, 18)"
      ]
     },
     "execution_count": 11,
     "metadata": {},
     "output_type": "execute_result"
    }
   ],
   "source": [
    "size(dfUnitLookUpTb)"
   ]
  },
  {
   "cell_type": "code",
   "execution_count": 12,
   "metadata": {},
   "outputs": [
    {
     "data": {
      "text/html": [
       "<table class=\"data-frame\"><thead><tr><th></th><th>variable</th><th>mean</th><th>min</th><th>median</th><th>max</th><th>nunique</th><th>nmissing</th></tr><tr><th></th><th>Symbol</th><th>Union…</th><th>Any</th><th>Union…</th><th>Any</th><th>Union…</th><th>Nothing</th></tr></thead><tbody><p>18 rows × 8 columns (omitted printing of 1 columns)</p><tr><th>1</th><td>UNIT_KEY</td><td>298.22</td><td>129</td><td>323.0</td><td>483</td><td></td><td></td></tr><tr><th>2</th><td>CC_KEY</td><td>0.294798</td><td>0</td><td>0.0</td><td>4</td><td></td><td></td></tr><tr><th>3</th><td>UNIT_NAME</td><td></td><td>ALLE_UN01</td><td></td><td>WSPN_CT01</td><td>157</td><td></td></tr><tr><th>4</th><td>UNIT_MED_NAME</td><td></td><td>ALLEN_UN_1</td><td></td><td>WSP IC</td><td>154</td><td></td></tr><tr><th>5</th><td>UNIT_DESCRIPTION</td><td></td><td>Allen 1</td><td></td><td>Weatherspoon CT 1-4</td><td>155</td><td></td></tr><tr><th>6</th><td>BEGIN_DATE</td><td></td><td>2000-01-01</td><td></td><td>2020-12-01</td><td>19</td><td></td></tr><tr><th>7</th><td>END_DATE</td><td></td><td>2020-02-29</td><td></td><td>2100-01-01</td><td>4</td><td></td></tr><tr><th>8</th><td>ACTIVE</td><td></td><td>N</td><td></td><td>Y</td><td>2</td><td></td></tr><tr><th>9</th><td>UNIT_TYPE</td><td></td><td>Cogen</td><td></td><td>Steam Dual Boiler</td><td>10</td><td></td></tr><tr><th>10</th><td>UNIT_TYPE_CODE</td><td></td><td>CC</td><td></td><td>SD</td><td>10</td><td></td></tr><tr><th>11</th><td>PORTFOLIO_KEY</td><td>934.503</td><td>37</td><td>37.0</td><td>2080</td><td></td><td></td></tr><tr><th>12</th><td>PORTFOLIO_NAME</td><td></td><td>DEC</td><td></td><td>PEC</td><td>2</td><td></td></tr><tr><th>13</th><td>P_PORTFOLIO_NAME</td><td></td><td>CAR</td><td></td><td>CAR</td><td>1</td><td></td></tr><tr><th>14</th><td>MARKET_NAME</td><td></td><td>DEC</td><td></td><td>PEC_CPLW</td><td>3</td><td></td></tr><tr><th>15</th><td>PLANT_KEY</td><td>68.5087</td><td>1</td><td>80.0</td><td>126</td><td></td><td></td></tr><tr><th>16</th><td>PLANT_TYPE</td><td></td><td>Plant</td><td></td><td>Waterway</td><td>2</td><td></td></tr><tr><th>17</th><td>PLANT_NAME</td><td></td><td>ALLE</td><td></td><td>WSPN</td><td>52</td><td></td></tr><tr><th>18</th><td>PLANT_DESCRIPTION</td><td></td><td>Allen</td><td></td><td>Weatherspoon</td><td>52</td><td></td></tr></tbody></table>"
      ],
      "text/latex": [
       "\\begin{tabular}{r|cccccccc}\n",
       "\t& variable & mean & min & median & max & nunique & nmissing & \\\\\n",
       "\t\\hline\n",
       "\t& Symbol & Union… & Any & Union… & Any & Union… & Nothing & \\\\\n",
       "\t\\hline\n",
       "\t1 & UNIT\\_KEY & 298.22 & 129 & 323.0 & 483 &  &  & $\\dots$ \\\\\n",
       "\t2 & CC\\_KEY & 0.294798 & 0 & 0.0 & 4 &  &  & $\\dots$ \\\\\n",
       "\t3 & UNIT\\_NAME &  & ALLE\\_UN01 &  & WSPN\\_CT01 & 157 &  & $\\dots$ \\\\\n",
       "\t4 & UNIT\\_MED\\_NAME &  & ALLEN\\_UN\\_1 &  & WSP IC & 154 &  & $\\dots$ \\\\\n",
       "\t5 & UNIT\\_DESCRIPTION &  & Allen 1 &  & Weatherspoon CT 1-4 & 155 &  & $\\dots$ \\\\\n",
       "\t6 & BEGIN\\_DATE &  & 2000-01-01 &  & 2020-12-01 & 19 &  & $\\dots$ \\\\\n",
       "\t7 & END\\_DATE &  & 2020-02-29 &  & 2100-01-01 & 4 &  & $\\dots$ \\\\\n",
       "\t8 & ACTIVE &  & N &  & Y & 2 &  & $\\dots$ \\\\\n",
       "\t9 & UNIT\\_TYPE &  & Cogen &  & Steam Dual Boiler & 10 &  & $\\dots$ \\\\\n",
       "\t10 & UNIT\\_TYPE\\_CODE &  & CC &  & SD & 10 &  & $\\dots$ \\\\\n",
       "\t11 & PORTFOLIO\\_KEY & 934.503 & 37 & 37.0 & 2080 &  &  & $\\dots$ \\\\\n",
       "\t12 & PORTFOLIO\\_NAME &  & DEC &  & PEC & 2 &  & $\\dots$ \\\\\n",
       "\t13 & P\\_PORTFOLIO\\_NAME &  & CAR &  & CAR & 1 &  & $\\dots$ \\\\\n",
       "\t14 & MARKET\\_NAME &  & DEC &  & PEC\\_CPLW & 3 &  & $\\dots$ \\\\\n",
       "\t15 & PLANT\\_KEY & 68.5087 & 1 & 80.0 & 126 &  &  & $\\dots$ \\\\\n",
       "\t16 & PLANT\\_TYPE &  & Plant &  & Waterway & 2 &  & $\\dots$ \\\\\n",
       "\t17 & PLANT\\_NAME &  & ALLE &  & WSPN & 52 &  & $\\dots$ \\\\\n",
       "\t18 & PLANT\\_DESCRIPTION &  & Allen &  & Weatherspoon & 52 &  & $\\dots$ \\\\\n",
       "\\end{tabular}\n"
      ],
      "text/plain": [
       "18×8 DataFrame. Omitted printing of 4 columns\n",
       "│ Row │ variable          │ mean     │ min        │ median │\n",
       "│     │ \u001b[90mSymbol\u001b[39m            │ \u001b[90mUnion…\u001b[39m   │ \u001b[90mAny\u001b[39m        │ \u001b[90mUnion…\u001b[39m │\n",
       "├─────┼───────────────────┼──────────┼────────────┼────────┤\n",
       "│ 1   │ UNIT_KEY          │ 298.22   │ 129        │ 323.0  │\n",
       "│ 2   │ CC_KEY            │ 0.294798 │ 0          │ 0.0    │\n",
       "│ 3   │ UNIT_NAME         │          │ ALLE_UN01  │        │\n",
       "│ 4   │ UNIT_MED_NAME     │          │ ALLEN_UN_1 │        │\n",
       "│ 5   │ UNIT_DESCRIPTION  │          │ Allen 1    │        │\n",
       "│ 6   │ BEGIN_DATE        │          │ 2000-01-01 │        │\n",
       "│ 7   │ END_DATE          │          │ 2020-02-29 │        │\n",
       "│ 8   │ ACTIVE            │          │ N          │        │\n",
       "│ 9   │ UNIT_TYPE         │          │ Cogen      │        │\n",
       "│ 10  │ UNIT_TYPE_CODE    │          │ CC         │        │\n",
       "│ 11  │ PORTFOLIO_KEY     │ 934.503  │ 37         │ 37.0   │\n",
       "│ 12  │ PORTFOLIO_NAME    │          │ DEC        │        │\n",
       "│ 13  │ P_PORTFOLIO_NAME  │          │ CAR        │        │\n",
       "│ 14  │ MARKET_NAME       │          │ DEC        │        │\n",
       "│ 15  │ PLANT_KEY         │ 68.5087  │ 1          │ 80.0   │\n",
       "│ 16  │ PLANT_TYPE        │          │ Plant      │        │\n",
       "│ 17  │ PLANT_NAME        │          │ ALLE       │        │\n",
       "│ 18  │ PLANT_DESCRIPTION │          │ Allen      │        │"
      ]
     },
     "execution_count": 12,
     "metadata": {},
     "output_type": "execute_result"
    }
   ],
   "source": [
    "describe(dfUnitLookUpTb)"
   ]
  },
  {
   "cell_type": "code",
   "execution_count": 13,
   "metadata": {},
   "outputs": [
    {
     "data": {
      "text/html": [
       "<table class=\"data-frame\"><thead><tr><th></th><th>UNIT_KEY</th><th>CC_KEY</th><th>UNIT_NAME</th><th>UNIT_MED_NAME</th><th>UNIT_DESCRIPTION</th></tr><tr><th></th><th>Int64</th><th>Int64</th><th>String</th><th>String</th><th>String</th></tr></thead><tbody><p>5 rows × 18 columns (omitted printing of 13 columns)</p><tr><th>1</th><td>390</td><td>1</td><td>SCCP_CC01</td><td>SCCP_CC01</td><td>Sutton CCP CC01 (Aggregate)</td></tr><tr><th>2</th><td>390</td><td>2</td><td>SCCP_CC01</td><td>SCCP_CC01</td><td>Sutton CCP CC01 (Aggregate)</td></tr><tr><th>3</th><td>385</td><td>1</td><td>FAYE_CC01</td><td>FAYE_CC01</td><td>PEC Butler Warner plant (Aggregate)</td></tr><tr><th>4</th><td>385</td><td>2</td><td>FAYE_CC01</td><td>FAYE_CC01</td><td>PEC Butler Warner plant (Aggregate)</td></tr><tr><th>5</th><td>385</td><td>3</td><td>FAYE_CC01</td><td>FAYE_CC01</td><td>PEC Butler Warner plant (Aggregate)</td></tr></tbody></table>"
      ],
      "text/latex": [
       "\\begin{tabular}{r|cccccc}\n",
       "\t& UNIT\\_KEY & CC\\_KEY & UNIT\\_NAME & UNIT\\_MED\\_NAME & UNIT\\_DESCRIPTION & \\\\\n",
       "\t\\hline\n",
       "\t& Int64 & Int64 & String & String & String & \\\\\n",
       "\t\\hline\n",
       "\t1 & 390 & 1 & SCCP\\_CC01 & SCCP\\_CC01 & Sutton CCP CC01 (Aggregate) & $\\dots$ \\\\\n",
       "\t2 & 390 & 2 & SCCP\\_CC01 & SCCP\\_CC01 & Sutton CCP CC01 (Aggregate) & $\\dots$ \\\\\n",
       "\t3 & 385 & 1 & FAYE\\_CC01 & FAYE\\_CC01 & PEC Butler Warner plant (Aggregate) & $\\dots$ \\\\\n",
       "\t4 & 385 & 2 & FAYE\\_CC01 & FAYE\\_CC01 & PEC Butler Warner plant (Aggregate) & $\\dots$ \\\\\n",
       "\t5 & 385 & 3 & FAYE\\_CC01 & FAYE\\_CC01 & PEC Butler Warner plant (Aggregate) & $\\dots$ \\\\\n",
       "\\end{tabular}\n"
      ],
      "text/plain": [
       "5×18 DataFrame. Omitted printing of 14 columns\n",
       "│ Row │ UNIT_KEY │ CC_KEY │ UNIT_NAME │ UNIT_MED_NAME │\n",
       "│     │ \u001b[90mInt64\u001b[39m    │ \u001b[90mInt64\u001b[39m  │ \u001b[90mString\u001b[39m    │ \u001b[90mString\u001b[39m        │\n",
       "├─────┼──────────┼────────┼───────────┼───────────────┤\n",
       "│ 1   │ 390      │ 1      │ SCCP_CC01 │ SCCP_CC01     │\n",
       "│ 2   │ 390      │ 2      │ SCCP_CC01 │ SCCP_CC01     │\n",
       "│ 3   │ 385      │ 1      │ FAYE_CC01 │ FAYE_CC01     │\n",
       "│ 4   │ 385      │ 2      │ FAYE_CC01 │ FAYE_CC01     │\n",
       "│ 5   │ 385      │ 3      │ FAYE_CC01 │ FAYE_CC01     │"
      ]
     },
     "execution_count": 13,
     "metadata": {},
     "output_type": "execute_result"
    }
   ],
   "source": [
    "first(dfUnitLookUpTb, 5)"
   ]
  },
  {
   "cell_type": "code",
   "execution_count": 14,
   "metadata": {},
   "outputs": [
    {
     "ename": "LoadError",
     "evalue": "UndefVarError: df not defined",
     "output_type": "error",
     "traceback": [
      "UndefVarError: df not defined",
      "",
      "Stacktrace:",
      " [1] top-level scope at In[14]:1",
      " [2] include_string(::Function, ::Module, ::String, ::String) at .\\loading.jl:1091"
     ]
    }
   ],
   "source": [
    "#CSV.write(\"List of UnitsFile Name.csv\", df)"
   ]
  },
  {
   "cell_type": "markdown",
   "metadata": {},
   "source": [
    "### File: UnitSchedule_(DEC-DEP 2019).CSV"
   ]
  },
  {
   "cell_type": "code",
   "execution_count": 15,
   "metadata": {},
   "outputs": [
    {
     "data": {
      "text/plain": [
       "(1600415, 14)"
      ]
     },
     "execution_count": 15,
     "metadata": {},
     "output_type": "execute_result"
    }
   ],
   "source": [
    "size(dfUnitSch)"
   ]
  },
  {
   "cell_type": "code",
   "execution_count": 16,
   "metadata": {},
   "outputs": [
    {
     "data": {
      "text/html": [
       "<table class=\"data-frame\"><thead><tr><th></th><th>variable</th><th>mean</th><th>min</th><th>median</th><th>max</th><th>nunique</th><th>nmissing</th></tr><tr><th></th><th>Symbol</th><th>Union…</th><th>Any</th><th>Union…</th><th>Any</th><th>Union…</th><th>Nothing</th></tr></thead><tbody><p>14 rows × 8 columns (omitted printing of 1 columns)</p><tr><th>1</th><td>PORTFOLIO_NAME</td><td></td><td>DEC</td><td></td><td>PEC</td><td>2</td><td></td></tr><tr><th>2</th><td>UNIT_NAME</td><td></td><td>ALLE_UN01</td><td></td><td>WSPN_CT01</td><td>136</td><td></td></tr><tr><th>3</th><td>CC_KEY</td><td>0.310058</td><td>0</td><td>0.0</td><td>4</td><td></td><td></td></tr><tr><th>4</th><td>UNIT_TYPE</td><td></td><td>Cogen</td><td></td><td>Steam Dual Boiler</td><td>9</td><td></td></tr><tr><th>5</th><td>BEGIN_DATE</td><td></td><td>2019-01-01</td><td></td><td>2019-12-31</td><td>365</td><td></td></tr><tr><th>6</th><td>EDITION_NAME</td><td></td><td>Actual</td><td></td><td>Forecast</td><td>2</td><td></td></tr><tr><th>7</th><td>MW</td><td>169.639</td><td>0</td><td>0.0</td><td>14409</td><td></td><td></td></tr><tr><th>8</th><td>BALDN</td><td>0.0</td><td>0</td><td>0.0</td><td>0</td><td></td><td></td></tr><tr><th>9</th><td>BALUP</td><td>0.0</td><td>0</td><td>0.0</td><td>0</td><td></td><td></td></tr><tr><th>10</th><td>NSPIN</td><td>0.0</td><td>0</td><td>0.0</td><td>0</td><td></td><td></td></tr><tr><th>11</th><td>REGDN</td><td>0.0</td><td>0</td><td>0.0</td><td>0</td><td></td><td></td></tr><tr><th>12</th><td>REGUP</td><td>0.0</td><td>0</td><td>0.0</td><td>0</td><td></td><td></td></tr><tr><th>13</th><td>SPIN</td><td>0.0</td><td>0</td><td>0.0</td><td>0</td><td></td><td></td></tr><tr><th>14</th><td>SPINDN</td><td>0.0</td><td>0</td><td>0.0</td><td>0</td><td></td><td></td></tr></tbody></table>"
      ],
      "text/latex": [
       "\\begin{tabular}{r|cccccccc}\n",
       "\t& variable & mean & min & median & max & nunique & nmissing & \\\\\n",
       "\t\\hline\n",
       "\t& Symbol & Union… & Any & Union… & Any & Union… & Nothing & \\\\\n",
       "\t\\hline\n",
       "\t1 & PORTFOLIO\\_NAME &  & DEC &  & PEC & 2 &  & $\\dots$ \\\\\n",
       "\t2 & UNIT\\_NAME &  & ALLE\\_UN01 &  & WSPN\\_CT01 & 136 &  & $\\dots$ \\\\\n",
       "\t3 & CC\\_KEY & 0.310058 & 0 & 0.0 & 4 &  &  & $\\dots$ \\\\\n",
       "\t4 & UNIT\\_TYPE &  & Cogen &  & Steam Dual Boiler & 9 &  & $\\dots$ \\\\\n",
       "\t5 & BEGIN\\_DATE &  & 2019-01-01 &  & 2019-12-31 & 365 &  & $\\dots$ \\\\\n",
       "\t6 & EDITION\\_NAME &  & Actual &  & Forecast & 2 &  & $\\dots$ \\\\\n",
       "\t7 & MW & 169.639 & 0 & 0.0 & 14409 &  &  & $\\dots$ \\\\\n",
       "\t8 & BALDN & 0.0 & 0 & 0.0 & 0 &  &  & $\\dots$ \\\\\n",
       "\t9 & BALUP & 0.0 & 0 & 0.0 & 0 &  &  & $\\dots$ \\\\\n",
       "\t10 & NSPIN & 0.0 & 0 & 0.0 & 0 &  &  & $\\dots$ \\\\\n",
       "\t11 & REGDN & 0.0 & 0 & 0.0 & 0 &  &  & $\\dots$ \\\\\n",
       "\t12 & REGUP & 0.0 & 0 & 0.0 & 0 &  &  & $\\dots$ \\\\\n",
       "\t13 & SPIN & 0.0 & 0 & 0.0 & 0 &  &  & $\\dots$ \\\\\n",
       "\t14 & SPINDN & 0.0 & 0 & 0.0 & 0 &  &  & $\\dots$ \\\\\n",
       "\\end{tabular}\n"
      ],
      "text/plain": [
       "14×8 DataFrame. Omitted printing of 3 columns\n",
       "│ Row │ variable       │ mean     │ min        │ median │ max               │\n",
       "│     │ \u001b[90mSymbol\u001b[39m         │ \u001b[90mUnion…\u001b[39m   │ \u001b[90mAny\u001b[39m        │ \u001b[90mUnion…\u001b[39m │ \u001b[90mAny\u001b[39m               │\n",
       "├─────┼────────────────┼──────────┼────────────┼────────┼───────────────────┤\n",
       "│ 1   │ PORTFOLIO_NAME │          │ DEC        │        │ PEC               │\n",
       "│ 2   │ UNIT_NAME      │          │ ALLE_UN01  │        │ WSPN_CT01         │\n",
       "│ 3   │ CC_KEY         │ 0.310058 │ 0          │ 0.0    │ 4                 │\n",
       "│ 4   │ UNIT_TYPE      │          │ Cogen      │        │ Steam Dual Boiler │\n",
       "│ 5   │ BEGIN_DATE     │          │ 2019-01-01 │        │ 2019-12-31        │\n",
       "│ 6   │ EDITION_NAME   │          │ Actual     │        │ Forecast          │\n",
       "│ 7   │ MW             │ 169.639  │ 0          │ 0.0    │ 14409             │\n",
       "│ 8   │ BALDN          │ 0.0      │ 0          │ 0.0    │ 0                 │\n",
       "│ 9   │ BALUP          │ 0.0      │ 0          │ 0.0    │ 0                 │\n",
       "│ 10  │ NSPIN          │ 0.0      │ 0          │ 0.0    │ 0                 │\n",
       "│ 11  │ REGDN          │ 0.0      │ 0          │ 0.0    │ 0                 │\n",
       "│ 12  │ REGUP          │ 0.0      │ 0          │ 0.0    │ 0                 │\n",
       "│ 13  │ SPIN           │ 0.0      │ 0          │ 0.0    │ 0                 │\n",
       "│ 14  │ SPINDN         │ 0.0      │ 0          │ 0.0    │ 0                 │"
      ]
     },
     "execution_count": 16,
     "metadata": {},
     "output_type": "execute_result"
    }
   ],
   "source": [
    "describe(dfUnitSch)"
   ]
  },
  {
   "cell_type": "code",
   "execution_count": 17,
   "metadata": {},
   "outputs": [
    {
     "data": {
      "text/html": [
       "<table class=\"data-frame\"><thead><tr><th></th><th>PORTFOLIO_NAME</th><th>UNIT_NAME</th><th>CC_KEY</th><th>UNIT_TYPE</th><th>BEGIN_DATE</th><th>EDITION_NAME</th><th>MW</th><th>BALDN</th></tr><tr><th></th><th>String</th><th>String</th><th>Int64</th><th>String</th><th>Date</th><th>String</th><th>Int64</th><th>Int64</th></tr></thead><tbody><p>5 rows × 14 columns (omitted printing of 6 columns)</p><tr><th>1</th><td>DEC</td><td>ALLE_UN01</td><td>0</td><td>Steam</td><td>2019-01-01</td><td>Actual</td><td>0</td><td>0</td></tr><tr><th>2</th><td>DEC</td><td>ALLE_UN01</td><td>0</td><td>Steam</td><td>2019-01-01</td><td>Actual</td><td>0</td><td>0</td></tr><tr><th>3</th><td>DEC</td><td>ALLE_UN01</td><td>0</td><td>Steam</td><td>2019-01-01</td><td>Actual</td><td>0</td><td>0</td></tr><tr><th>4</th><td>DEC</td><td>ALLE_UN01</td><td>0</td><td>Steam</td><td>2019-01-01</td><td>Actual</td><td>0</td><td>0</td></tr><tr><th>5</th><td>DEC</td><td>ALLE_UN01</td><td>0</td><td>Steam</td><td>2019-01-01</td><td>Actual</td><td>0</td><td>0</td></tr></tbody></table>"
      ],
      "text/latex": [
       "\\begin{tabular}{r|ccccccccc}\n",
       "\t& PORTFOLIO\\_NAME & UNIT\\_NAME & CC\\_KEY & UNIT\\_TYPE & BEGIN\\_DATE & EDITION\\_NAME & MW & BALDN & \\\\\n",
       "\t\\hline\n",
       "\t& String & String & Int64 & String & Date & String & Int64 & Int64 & \\\\\n",
       "\t\\hline\n",
       "\t1 & DEC & ALLE\\_UN01 & 0 & Steam & 2019-01-01 & Actual & 0 & 0 & $\\dots$ \\\\\n",
       "\t2 & DEC & ALLE\\_UN01 & 0 & Steam & 2019-01-01 & Actual & 0 & 0 & $\\dots$ \\\\\n",
       "\t3 & DEC & ALLE\\_UN01 & 0 & Steam & 2019-01-01 & Actual & 0 & 0 & $\\dots$ \\\\\n",
       "\t4 & DEC & ALLE\\_UN01 & 0 & Steam & 2019-01-01 & Actual & 0 & 0 & $\\dots$ \\\\\n",
       "\t5 & DEC & ALLE\\_UN01 & 0 & Steam & 2019-01-01 & Actual & 0 & 0 & $\\dots$ \\\\\n",
       "\\end{tabular}\n"
      ],
      "text/plain": [
       "5×14 DataFrame. Omitted printing of 9 columns\n",
       "│ Row │ PORTFOLIO_NAME │ UNIT_NAME │ CC_KEY │ UNIT_TYPE │ BEGIN_DATE │\n",
       "│     │ \u001b[90mString\u001b[39m         │ \u001b[90mString\u001b[39m    │ \u001b[90mInt64\u001b[39m  │ \u001b[90mString\u001b[39m    │ \u001b[90mDate\u001b[39m       │\n",
       "├─────┼────────────────┼───────────┼────────┼───────────┼────────────┤\n",
       "│ 1   │ DEC            │ ALLE_UN01 │ 0      │ Steam     │ 2019-01-01 │\n",
       "│ 2   │ DEC            │ ALLE_UN01 │ 0      │ Steam     │ 2019-01-01 │\n",
       "│ 3   │ DEC            │ ALLE_UN01 │ 0      │ Steam     │ 2019-01-01 │\n",
       "│ 4   │ DEC            │ ALLE_UN01 │ 0      │ Steam     │ 2019-01-01 │\n",
       "│ 5   │ DEC            │ ALLE_UN01 │ 0      │ Steam     │ 2019-01-01 │"
      ]
     },
     "execution_count": 17,
     "metadata": {},
     "output_type": "execute_result"
    }
   ],
   "source": [
    "first(dfUnitSch, 5)"
   ]
  },
  {
   "cell_type": "markdown",
   "metadata": {},
   "source": [
    "**Frequency table of units and number of records of actual and forecast schedules**"
   ]
  },
  {
   "cell_type": "code",
   "execution_count": 18,
   "metadata": {
    "scrolled": true
   },
   "outputs": [
    {
     "data": {
      "text/plain": [
       "136×2 Named Array{Int64,2}\n",
       "Dim1 ╲ Dim2 │   Actual  Forecast\n",
       "────────────┼───────────────────\n",
       "ALLE_UN01   │     8760         0\n",
       "ALLE_UN02   │     8760         0\n",
       "ALLE_UN03   │     8760         0\n",
       "ALLE_UN04   │     8760         0\n",
       "ALLE_UN05   │     8760         0\n",
       "ASHV_CC01   │     3836      3379\n",
       "ASHV_CC02   │     3836      3379\n",
       "ASHV_CT03   │     8760         0\n",
       "ASHV_CT04   │     8760         0\n",
       "ASHV_UN01   │     8760         0\n",
       "ASHV_UN02   │     8760         0\n",
       "BELE_UN01   │     8760         0\n",
       "⋮                    ⋮         ⋮\n",
       "SPRT_CG01   │     8760      8759\n",
       "SUTT_CT02   │       11         0\n",
       "SUTT_CT04   │     8760         0\n",
       "SUTT_CT05   │     8760         0\n",
       "TILL_HYDR   │     8760      8759\n",
       "WALT_HYDR   │     8760      8759\n",
       "WCOP_CT10   │     8760         0\n",
       "WCOP_CT11   │     8760         0\n",
       "WCOP_CT12   │     8760         0\n",
       "WCOP_CT13   │     8760         0\n",
       "WCOP_CT14   │     8760         0\n",
       "WSPN_CT01   │     8244         0"
      ]
     },
     "execution_count": 18,
     "metadata": {},
     "output_type": "execute_result"
    }
   ],
   "source": [
    "freqtable(dfUnitSch.UNIT_NAME, dfUnitSch.EDITION_NAME)"
   ]
  },
  {
   "cell_type": "markdown",
   "metadata": {},
   "source": [
    "### File: xHydroUnitRating_(DEC 2019).csv"
   ]
  },
  {
   "cell_type": "code",
   "execution_count": 19,
   "metadata": {},
   "outputs": [
    {
     "data": {
      "text/plain": [
       "(8, 11)"
      ]
     },
     "execution_count": 19,
     "metadata": {},
     "output_type": "execute_result"
    }
   ],
   "source": [
    "size(dfHydroUnitRating)"
   ]
  },
  {
   "cell_type": "code",
   "execution_count": 20,
   "metadata": {},
   "outputs": [
    {
     "data": {
      "text/html": [
       "<table class=\"data-frame\"><thead><tr><th></th><th>variable</th><th>mean</th><th>min</th><th>median</th><th>max</th><th>nunique</th><th>nmissing</th><th>eltype</th></tr><tr><th></th><th>Symbol</th><th>Union…</th><th>Any</th><th>Union…</th><th>Any</th><th>Union…</th><th>Nothing</th><th>DataType</th></tr></thead><tbody><p>11 rows × 8 columns</p><tr><th>1</th><td>UNIT_NAME</td><td></td><td>BADC_PS01</td><td></td><td>JOCA_PS04</td><td>8</td><td></td><td>String</td></tr><tr><th>2</th><td>CC_KEY</td><td>0.0</td><td>0</td><td>0.0</td><td>0</td><td></td><td></td><td>Int64</td></tr><tr><th>3</th><td>EDITION</td><td></td><td>Actual</td><td></td><td>Actual</td><td>1</td><td></td><td>String</td></tr><tr><th>4</th><td>TIMEZONE</td><td></td><td>EDT</td><td></td><td>EDT</td><td>1</td><td></td><td>String</td></tr><tr><th>5</th><td>BEGIN_DATE</td><td></td><td>4/1/2017 4:00</td><td></td><td>4/1/2017 4:00</td><td>1</td><td></td><td>String</td></tr><tr><th>6</th><td>PUMP_MIN</td><td>202.5</td><td>155</td><td>202.5</td><td>250</td><td></td><td></td><td>Int64</td></tr><tr><th>7</th><td>LOW_LFC</td><td>202.5</td><td>155</td><td>202.5</td><td>250</td><td></td><td></td><td>Int64</td></tr><tr><th>8</th><td>MAX_CAP</td><td>267.5</td><td>195</td><td>267.5</td><td>340</td><td></td><td></td><td>Int64</td></tr><tr><th>9</th><td>PUMP_MAX</td><td>267.5</td><td>195</td><td>267.5</td><td>340</td><td></td><td></td><td>Int64</td></tr><tr><th>10</th><td>PUMP_LOW</td><td>257.0</td><td>205</td><td>257.0</td><td>309</td><td></td><td></td><td>Int64</td></tr><tr><th>11</th><td>PUMP_HIGH</td><td>257.0</td><td>205</td><td>257.0</td><td>309</td><td></td><td></td><td>Int64</td></tr></tbody></table>"
      ],
      "text/latex": [
       "\\begin{tabular}{r|cccccccc}\n",
       "\t& variable & mean & min & median & max & nunique & nmissing & eltype\\\\\n",
       "\t\\hline\n",
       "\t& Symbol & Union… & Any & Union… & Any & Union… & Nothing & DataType\\\\\n",
       "\t\\hline\n",
       "\t1 & UNIT\\_NAME &  & BADC\\_PS01 &  & JOCA\\_PS04 & 8 &  & String \\\\\n",
       "\t2 & CC\\_KEY & 0.0 & 0 & 0.0 & 0 &  &  & Int64 \\\\\n",
       "\t3 & EDITION &  & Actual &  & Actual & 1 &  & String \\\\\n",
       "\t4 & TIMEZONE &  & EDT &  & EDT & 1 &  & String \\\\\n",
       "\t5 & BEGIN\\_DATE &  & 4/1/2017 4:00 &  & 4/1/2017 4:00 & 1 &  & String \\\\\n",
       "\t6 & PUMP\\_MIN & 202.5 & 155 & 202.5 & 250 &  &  & Int64 \\\\\n",
       "\t7 & LOW\\_LFC & 202.5 & 155 & 202.5 & 250 &  &  & Int64 \\\\\n",
       "\t8 & MAX\\_CAP & 267.5 & 195 & 267.5 & 340 &  &  & Int64 \\\\\n",
       "\t9 & PUMP\\_MAX & 267.5 & 195 & 267.5 & 340 &  &  & Int64 \\\\\n",
       "\t10 & PUMP\\_LOW & 257.0 & 205 & 257.0 & 309 &  &  & Int64 \\\\\n",
       "\t11 & PUMP\\_HIGH & 257.0 & 205 & 257.0 & 309 &  &  & Int64 \\\\\n",
       "\\end{tabular}\n"
      ],
      "text/plain": [
       "11×8 DataFrame. Omitted printing of 2 columns\n",
       "│ Row │ variable   │ mean   │ min           │ median │ max           │ nunique │\n",
       "│     │ \u001b[90mSymbol\u001b[39m     │ \u001b[90mUnion…\u001b[39m │ \u001b[90mAny\u001b[39m           │ \u001b[90mUnion…\u001b[39m │ \u001b[90mAny\u001b[39m           │ \u001b[90mUnion…\u001b[39m  │\n",
       "├─────┼────────────┼────────┼───────────────┼────────┼───────────────┼─────────┤\n",
       "│ 1   │ UNIT_NAME  │        │ BADC_PS01     │        │ JOCA_PS04     │ 8       │\n",
       "│ 2   │ CC_KEY     │ 0.0    │ 0             │ 0.0    │ 0             │         │\n",
       "│ 3   │ EDITION    │        │ Actual        │        │ Actual        │ 1       │\n",
       "│ 4   │ TIMEZONE   │        │ EDT           │        │ EDT           │ 1       │\n",
       "│ 5   │ BEGIN_DATE │        │ 4/1/2017 4:00 │        │ 4/1/2017 4:00 │ 1       │\n",
       "│ 6   │ PUMP_MIN   │ 202.5  │ 155           │ 202.5  │ 250           │         │\n",
       "│ 7   │ LOW_LFC    │ 202.5  │ 155           │ 202.5  │ 250           │         │\n",
       "│ 8   │ MAX_CAP    │ 267.5  │ 195           │ 267.5  │ 340           │         │\n",
       "│ 9   │ PUMP_MAX   │ 267.5  │ 195           │ 267.5  │ 340           │         │\n",
       "│ 10  │ PUMP_LOW   │ 257.0  │ 205           │ 257.0  │ 309           │         │\n",
       "│ 11  │ PUMP_HIGH  │ 257.0  │ 205           │ 257.0  │ 309           │         │"
      ]
     },
     "execution_count": 20,
     "metadata": {},
     "output_type": "execute_result"
    }
   ],
   "source": [
    "describe(dfHydroUnitRating)"
   ]
  },
  {
   "cell_type": "markdown",
   "metadata": {},
   "source": [
    "### File: xUnitCycleLimit_(DEC 2019).csv"
   ]
  },
  {
   "cell_type": "code",
   "execution_count": 21,
   "metadata": {},
   "outputs": [
    {
     "data": {
      "text/plain": [
       "(64, 8)"
      ]
     },
     "execution_count": 21,
     "metadata": {},
     "output_type": "execute_result"
    }
   ],
   "source": [
    "size(dfUnitCycleDEC)"
   ]
  },
  {
   "cell_type": "code",
   "execution_count": 22,
   "metadata": {},
   "outputs": [
    {
     "data": {
      "text/html": [
       "<table class=\"data-frame\"><thead><tr><th></th><th>variable</th><th>mean</th><th>min</th><th>median</th><th>max</th><th>nunique</th><th>nmissing</th></tr><tr><th></th><th>Symbol</th><th>Union…</th><th>Any</th><th>Union…</th><th>Any</th><th>Union…</th><th>Nothing</th></tr></thead><tbody><p>8 rows × 8 columns (omitted printing of 1 columns)</p><tr><th>1</th><td>UNIT_NAME</td><td></td><td>ALLE_UN01</td><td></td><td>RCKN_CT05</td><td>61</td><td></td></tr><tr><th>2</th><td>CC_KEY</td><td>0.140625</td><td>0</td><td>0.0</td><td>2</td><td></td><td></td></tr><tr><th>3</th><td>EDITION</td><td></td><td>Actual</td><td></td><td>Actual</td><td>1</td><td></td></tr><tr><th>4</th><td>MIN_UPTIME</td><td>29.3906</td><td>1</td><td>2.0</td><td>120</td><td></td><td></td></tr><tr><th>5</th><td>MIN_DNTIME</td><td>8.35938</td><td>1</td><td>1.0</td><td>48</td><td></td><td></td></tr><tr><th>6</th><td>MAXRAMPRATE</td><td>8.72656</td><td>1.5</td><td>8.0</td><td>20.0</td><td></td><td></td></tr><tr><th>7</th><td>TIMEZONE</td><td></td><td>EDT</td><td></td><td>EDT</td><td>1</td><td></td></tr><tr><th>8</th><td>BEGIN_DATE</td><td></td><td>1/1/2011 5:00</td><td></td><td>9/11/2015 4:00</td><td>12</td><td></td></tr></tbody></table>"
      ],
      "text/latex": [
       "\\begin{tabular}{r|cccccccc}\n",
       "\t& variable & mean & min & median & max & nunique & nmissing & \\\\\n",
       "\t\\hline\n",
       "\t& Symbol & Union… & Any & Union… & Any & Union… & Nothing & \\\\\n",
       "\t\\hline\n",
       "\t1 & UNIT\\_NAME &  & ALLE\\_UN01 &  & RCKN\\_CT05 & 61 &  & $\\dots$ \\\\\n",
       "\t2 & CC\\_KEY & 0.140625 & 0 & 0.0 & 2 &  &  & $\\dots$ \\\\\n",
       "\t3 & EDITION &  & Actual &  & Actual & 1 &  & $\\dots$ \\\\\n",
       "\t4 & MIN\\_UPTIME & 29.3906 & 1 & 2.0 & 120 &  &  & $\\dots$ \\\\\n",
       "\t5 & MIN\\_DNTIME & 8.35938 & 1 & 1.0 & 48 &  &  & $\\dots$ \\\\\n",
       "\t6 & MAXRAMPRATE & 8.72656 & 1.5 & 8.0 & 20.0 &  &  & $\\dots$ \\\\\n",
       "\t7 & TIMEZONE &  & EDT &  & EDT & 1 &  & $\\dots$ \\\\\n",
       "\t8 & BEGIN\\_DATE &  & 1/1/2011 5:00 &  & 9/11/2015 4:00 & 12 &  & $\\dots$ \\\\\n",
       "\\end{tabular}\n"
      ],
      "text/plain": [
       "8×8 DataFrame. Omitted printing of 3 columns\n",
       "│ Row │ variable    │ mean     │ min           │ median │ max            │\n",
       "│     │ \u001b[90mSymbol\u001b[39m      │ \u001b[90mUnion…\u001b[39m   │ \u001b[90mAny\u001b[39m           │ \u001b[90mUnion…\u001b[39m │ \u001b[90mAny\u001b[39m            │\n",
       "├─────┼─────────────┼──────────┼───────────────┼────────┼────────────────┤\n",
       "│ 1   │ UNIT_NAME   │          │ ALLE_UN01     │        │ RCKN_CT05      │\n",
       "│ 2   │ CC_KEY      │ 0.140625 │ 0             │ 0.0    │ 2              │\n",
       "│ 3   │ EDITION     │          │ Actual        │        │ Actual         │\n",
       "│ 4   │ MIN_UPTIME  │ 29.3906  │ 1             │ 2.0    │ 120            │\n",
       "│ 5   │ MIN_DNTIME  │ 8.35938  │ 1             │ 1.0    │ 48             │\n",
       "│ 6   │ MAXRAMPRATE │ 8.72656  │ 1.5           │ 8.0    │ 20.0           │\n",
       "│ 7   │ TIMEZONE    │          │ EDT           │        │ EDT            │\n",
       "│ 8   │ BEGIN_DATE  │          │ 1/1/2011 5:00 │        │ 9/11/2015 4:00 │"
      ]
     },
     "execution_count": 22,
     "metadata": {},
     "output_type": "execute_result"
    }
   ],
   "source": [
    "describe(dfUnitCycleDEC)"
   ]
  },
  {
   "cell_type": "markdown",
   "metadata": {},
   "source": [
    "### File: xUnitCycleLimit_(DEP 2019).csv"
   ]
  },
  {
   "cell_type": "code",
   "execution_count": 23,
   "metadata": {},
   "outputs": [
    {
     "data": {
      "text/plain": [
       "(79, 8)"
      ]
     },
     "execution_count": 23,
     "metadata": {},
     "output_type": "execute_result"
    }
   ],
   "source": [
    "size(dfUnitCycleDEP)"
   ]
  },
  {
   "cell_type": "code",
   "execution_count": 24,
   "metadata": {},
   "outputs": [
    {
     "data": {
      "text/html": [
       "<table class=\"data-frame\"><thead><tr><th></th><th>variable</th><th>mean</th><th>min</th><th>median</th><th>max</th><th>nunique</th><th>nmissing</th></tr><tr><th></th><th>Symbol</th><th>Union…</th><th>Any</th><th>Union…</th><th>Any</th><th>Union…</th><th>Nothing</th></tr></thead><tbody><p>8 rows × 8 columns (omitted printing of 1 columns)</p><tr><th>1</th><td>UNIT_NAME</td><td></td><td>ASHV_CT03</td><td></td><td>WSPN_CT01</td><td>66</td><td></td></tr><tr><th>2</th><td>CC_KEY</td><td>0.506329</td><td>0</td><td>0.0</td><td>4</td><td></td><td></td></tr><tr><th>3</th><td>EDITION</td><td></td><td>Actual</td><td></td><td>Actual</td><td>1</td><td></td></tr><tr><th>4</th><td>MIN_UPTIME</td><td>19.1139</td><td>1</td><td>2.0</td><td>120</td><td></td><td></td></tr><tr><th>5</th><td>MIN_DNTIME</td><td>3.98734</td><td>1</td><td>2.0</td><td>12</td><td></td><td></td></tr><tr><th>6</th><td>MAXRAMPRATE</td><td>10.7063</td><td>0.3</td><td>10.0</td><td>20.0</td><td></td><td></td></tr><tr><th>7</th><td>TIMEZONE</td><td></td><td>EDT</td><td></td><td>EDT</td><td>1</td><td></td></tr><tr><th>8</th><td>BEGIN_DATE</td><td></td><td>10/18/2014 4:00</td><td></td><td>9/25/2013 4:00</td><td>14</td><td></td></tr></tbody></table>"
      ],
      "text/latex": [
       "\\begin{tabular}{r|cccccccc}\n",
       "\t& variable & mean & min & median & max & nunique & nmissing & \\\\\n",
       "\t\\hline\n",
       "\t& Symbol & Union… & Any & Union… & Any & Union… & Nothing & \\\\\n",
       "\t\\hline\n",
       "\t1 & UNIT\\_NAME &  & ASHV\\_CT03 &  & WSPN\\_CT01 & 66 &  & $\\dots$ \\\\\n",
       "\t2 & CC\\_KEY & 0.506329 & 0 & 0.0 & 4 &  &  & $\\dots$ \\\\\n",
       "\t3 & EDITION &  & Actual &  & Actual & 1 &  & $\\dots$ \\\\\n",
       "\t4 & MIN\\_UPTIME & 19.1139 & 1 & 2.0 & 120 &  &  & $\\dots$ \\\\\n",
       "\t5 & MIN\\_DNTIME & 3.98734 & 1 & 2.0 & 12 &  &  & $\\dots$ \\\\\n",
       "\t6 & MAXRAMPRATE & 10.7063 & 0.3 & 10.0 & 20.0 &  &  & $\\dots$ \\\\\n",
       "\t7 & TIMEZONE &  & EDT &  & EDT & 1 &  & $\\dots$ \\\\\n",
       "\t8 & BEGIN\\_DATE &  & 10/18/2014 4:00 &  & 9/25/2013 4:00 & 14 &  & $\\dots$ \\\\\n",
       "\\end{tabular}\n"
      ],
      "text/plain": [
       "8×8 DataFrame. Omitted printing of 3 columns\n",
       "│ Row │ variable    │ mean     │ min             │ median │ max            │\n",
       "│     │ \u001b[90mSymbol\u001b[39m      │ \u001b[90mUnion…\u001b[39m   │ \u001b[90mAny\u001b[39m             │ \u001b[90mUnion…\u001b[39m │ \u001b[90mAny\u001b[39m            │\n",
       "├─────┼─────────────┼──────────┼─────────────────┼────────┼────────────────┤\n",
       "│ 1   │ UNIT_NAME   │          │ ASHV_CT03       │        │ WSPN_CT01      │\n",
       "│ 2   │ CC_KEY      │ 0.506329 │ 0               │ 0.0    │ 4              │\n",
       "│ 3   │ EDITION     │          │ Actual          │        │ Actual         │\n",
       "│ 4   │ MIN_UPTIME  │ 19.1139  │ 1               │ 2.0    │ 120            │\n",
       "│ 5   │ MIN_DNTIME  │ 3.98734  │ 1               │ 2.0    │ 12             │\n",
       "│ 6   │ MAXRAMPRATE │ 10.7063  │ 0.3             │ 10.0   │ 20.0           │\n",
       "│ 7   │ TIMEZONE    │          │ EDT             │        │ EDT            │\n",
       "│ 8   │ BEGIN_DATE  │          │ 10/18/2014 4:00 │        │ 9/25/2013 4:00 │"
      ]
     },
     "execution_count": 24,
     "metadata": {},
     "output_type": "execute_result"
    }
   ],
   "source": [
    "describe(dfUnitCycleDEP)"
   ]
  },
  {
   "cell_type": "markdown",
   "metadata": {},
   "source": [
    "### File: xUnitRating_DEP-DEC-Summer (2019)"
   ]
  },
  {
   "cell_type": "code",
   "execution_count": 25,
   "metadata": {},
   "outputs": [
    {
     "data": {
      "text/plain": [
       "(141, 11)"
      ]
     },
     "execution_count": 25,
     "metadata": {},
     "output_type": "execute_result"
    }
   ],
   "source": [
    "size(dfUnitRateSummer)"
   ]
  },
  {
   "cell_type": "code",
   "execution_count": 26,
   "metadata": {},
   "outputs": [
    {
     "data": {
      "text/html": [
       "<table class=\"data-frame\"><thead><tr><th></th><th>variable</th><th>mean</th><th>min</th><th>median</th><th>max</th><th>nunique</th><th>nmissing</th></tr><tr><th></th><th>Symbol</th><th>Union…</th><th>Any</th><th>Union…</th><th>Any</th><th>Union…</th><th>Nothing</th></tr></thead><tbody><p>11 rows × 8 columns (omitted printing of 1 columns)</p><tr><th>1</th><td>UNIT_NAME</td><td></td><td>ALLE_UN01</td><td></td><td>WSPN_CT01</td><td>125</td><td></td></tr><tr><th>2</th><td>CC_KEY</td><td>0.347518</td><td>0</td><td>0.0</td><td>4</td><td></td><td></td></tr><tr><th>3</th><td>EDITION</td><td></td><td>Actual</td><td></td><td>Actual</td><td>1</td><td></td></tr><tr><th>4</th><td>TIMEZONE</td><td></td><td>EDT</td><td></td><td>EDT</td><td>1</td><td></td></tr><tr><th>5</th><td>BEGIN_DATE</td><td></td><td>04/01/2018 00</td><td></td><td>04/01/2019 00</td><td>2</td><td></td></tr><tr><th>6</th><td>EMERGENCY_MIN</td><td>114.298</td><td>0</td><td>74.0</td><td>650</td><td></td><td></td></tr><tr><th>7</th><td>NORMAL_MIN</td><td>114.44</td><td>0</td><td>74.0</td><td>650</td><td></td><td></td></tr><tr><th>8</th><td>NORMAL_MAX</td><td>261.66</td><td>4.0</td><td>159.0</td><td>1236.5</td><td></td><td></td></tr><tr><th>9</th><td>EMERGENCY_MAX</td><td>261.66</td><td>4.0</td><td>159.0</td><td>1236.5</td><td></td><td></td></tr><tr><th>10</th><td>REG_MIN</td><td>123.482</td><td>0</td><td>75.0</td><td>665</td><td></td><td></td></tr><tr><th>11</th><td>REG_MAX</td><td>257.625</td><td>0.0</td><td>159.0</td><td>1236.5</td><td></td><td></td></tr></tbody></table>"
      ],
      "text/latex": [
       "\\begin{tabular}{r|cccccccc}\n",
       "\t& variable & mean & min & median & max & nunique & nmissing & \\\\\n",
       "\t\\hline\n",
       "\t& Symbol & Union… & Any & Union… & Any & Union… & Nothing & \\\\\n",
       "\t\\hline\n",
       "\t1 & UNIT\\_NAME &  & ALLE\\_UN01 &  & WSPN\\_CT01 & 125 &  & $\\dots$ \\\\\n",
       "\t2 & CC\\_KEY & 0.347518 & 0 & 0.0 & 4 &  &  & $\\dots$ \\\\\n",
       "\t3 & EDITION &  & Actual &  & Actual & 1 &  & $\\dots$ \\\\\n",
       "\t4 & TIMEZONE &  & EDT &  & EDT & 1 &  & $\\dots$ \\\\\n",
       "\t5 & BEGIN\\_DATE &  & 04/01/2018 00 &  & 04/01/2019 00 & 2 &  & $\\dots$ \\\\\n",
       "\t6 & EMERGENCY\\_MIN & 114.298 & 0 & 74.0 & 650 &  &  & $\\dots$ \\\\\n",
       "\t7 & NORMAL\\_MIN & 114.44 & 0 & 74.0 & 650 &  &  & $\\dots$ \\\\\n",
       "\t8 & NORMAL\\_MAX & 261.66 & 4.0 & 159.0 & 1236.5 &  &  & $\\dots$ \\\\\n",
       "\t9 & EMERGENCY\\_MAX & 261.66 & 4.0 & 159.0 & 1236.5 &  &  & $\\dots$ \\\\\n",
       "\t10 & REG\\_MIN & 123.482 & 0 & 75.0 & 665 &  &  & $\\dots$ \\\\\n",
       "\t11 & REG\\_MAX & 257.625 & 0.0 & 159.0 & 1236.5 &  &  & $\\dots$ \\\\\n",
       "\\end{tabular}\n"
      ],
      "text/plain": [
       "11×8 DataFrame. Omitted printing of 3 columns\n",
       "│ Row │ variable      │ mean     │ min           │ median │ max           │\n",
       "│     │ \u001b[90mSymbol\u001b[39m        │ \u001b[90mUnion…\u001b[39m   │ \u001b[90mAny\u001b[39m           │ \u001b[90mUnion…\u001b[39m │ \u001b[90mAny\u001b[39m           │\n",
       "├─────┼───────────────┼──────────┼───────────────┼────────┼───────────────┤\n",
       "│ 1   │ UNIT_NAME     │          │ ALLE_UN01     │        │ WSPN_CT01     │\n",
       "│ 2   │ CC_KEY        │ 0.347518 │ 0             │ 0.0    │ 4             │\n",
       "│ 3   │ EDITION       │          │ Actual        │        │ Actual        │\n",
       "│ 4   │ TIMEZONE      │          │ EDT           │        │ EDT           │\n",
       "│ 5   │ BEGIN_DATE    │          │ 04/01/2018 00 │        │ 04/01/2019 00 │\n",
       "│ 6   │ EMERGENCY_MIN │ 114.298  │ 0             │ 74.0   │ 650           │\n",
       "│ 7   │ NORMAL_MIN    │ 114.44   │ 0             │ 74.0   │ 650           │\n",
       "│ 8   │ NORMAL_MAX    │ 261.66   │ 4.0           │ 159.0  │ 1236.5        │\n",
       "│ 9   │ EMERGENCY_MAX │ 261.66   │ 4.0           │ 159.0  │ 1236.5        │\n",
       "│ 10  │ REG_MIN       │ 123.482  │ 0             │ 75.0   │ 665           │\n",
       "│ 11  │ REG_MAX       │ 257.625  │ 0.0           │ 159.0  │ 1236.5        │"
      ]
     },
     "execution_count": 26,
     "metadata": {},
     "output_type": "execute_result"
    }
   ],
   "source": [
    "describe(dfUnitRateSummer)"
   ]
  },
  {
   "cell_type": "markdown",
   "metadata": {},
   "source": [
    "### File: xUnitRating_DEP-DEC-Winter(2019).csv"
   ]
  },
  {
   "cell_type": "code",
   "execution_count": 27,
   "metadata": {},
   "outputs": [
    {
     "data": {
      "text/plain": [
       "(141, 11)"
      ]
     },
     "execution_count": 27,
     "metadata": {},
     "output_type": "execute_result"
    }
   ],
   "source": [
    "size(dfUnitRateWinter)"
   ]
  },
  {
   "cell_type": "code",
   "execution_count": 28,
   "metadata": {},
   "outputs": [
    {
     "data": {
      "text/html": [
       "<table class=\"data-frame\"><thead><tr><th></th><th>variable</th><th>mean</th><th>min</th><th>median</th><th>max</th><th>nunique</th><th>nmissing</th></tr><tr><th></th><th>Symbol</th><th>Union…</th><th>Any</th><th>Union…</th><th>Any</th><th>Union…</th><th>Nothing</th></tr></thead><tbody><p>11 rows × 8 columns (omitted printing of 1 columns)</p><tr><th>1</th><td>UNIT_NAME</td><td></td><td>ALLE_UN01</td><td></td><td>WSPN_CT01</td><td>125</td><td></td></tr><tr><th>2</th><td>CC_KEY</td><td>0.347518</td><td>0</td><td>0.0</td><td>4</td><td></td><td></td></tr><tr><th>3</th><td>EDITION</td><td></td><td>Actual</td><td></td><td>Actual</td><td>1</td><td></td></tr><tr><th>4</th><td>TIMEZONE</td><td></td><td>EDT</td><td></td><td>EST</td><td>2</td><td></td></tr><tr><th>5</th><td>BEGIN_DATE</td><td></td><td>04/01/2018 00</td><td></td><td>11/18/2018 00</td><td>2</td><td></td></tr><tr><th>6</th><td>EMERGENCY_MIN</td><td>119.333</td><td>0</td><td>97.0</td><td>650</td><td></td><td></td></tr><tr><th>7</th><td>NORMAL_MIN</td><td>118.411</td><td>0</td><td>97.0</td><td>650</td><td></td><td></td></tr><tr><th>8</th><td>NORMAL_MAX</td><td>276.632</td><td>4.0</td><td>178.0</td><td>1236.5</td><td></td><td></td></tr><tr><th>9</th><td>EMERGENCY_MAX</td><td>276.632</td><td>4.0</td><td>178.0</td><td>1236.5</td><td></td><td></td></tr><tr><th>10</th><td>REG_MIN</td><td>126.667</td><td>0</td><td>98.0</td><td>665</td><td></td><td></td></tr><tr><th>11</th><td>REG_MAX</td><td>270.604</td><td>0.0</td><td>178.0</td><td>1236.5</td><td></td><td></td></tr></tbody></table>"
      ],
      "text/latex": [
       "\\begin{tabular}{r|cccccccc}\n",
       "\t& variable & mean & min & median & max & nunique & nmissing & \\\\\n",
       "\t\\hline\n",
       "\t& Symbol & Union… & Any & Union… & Any & Union… & Nothing & \\\\\n",
       "\t\\hline\n",
       "\t1 & UNIT\\_NAME &  & ALLE\\_UN01 &  & WSPN\\_CT01 & 125 &  & $\\dots$ \\\\\n",
       "\t2 & CC\\_KEY & 0.347518 & 0 & 0.0 & 4 &  &  & $\\dots$ \\\\\n",
       "\t3 & EDITION &  & Actual &  & Actual & 1 &  & $\\dots$ \\\\\n",
       "\t4 & TIMEZONE &  & EDT &  & EST & 2 &  & $\\dots$ \\\\\n",
       "\t5 & BEGIN\\_DATE &  & 04/01/2018 00 &  & 11/18/2018 00 & 2 &  & $\\dots$ \\\\\n",
       "\t6 & EMERGENCY\\_MIN & 119.333 & 0 & 97.0 & 650 &  &  & $\\dots$ \\\\\n",
       "\t7 & NORMAL\\_MIN & 118.411 & 0 & 97.0 & 650 &  &  & $\\dots$ \\\\\n",
       "\t8 & NORMAL\\_MAX & 276.632 & 4.0 & 178.0 & 1236.5 &  &  & $\\dots$ \\\\\n",
       "\t9 & EMERGENCY\\_MAX & 276.632 & 4.0 & 178.0 & 1236.5 &  &  & $\\dots$ \\\\\n",
       "\t10 & REG\\_MIN & 126.667 & 0 & 98.0 & 665 &  &  & $\\dots$ \\\\\n",
       "\t11 & REG\\_MAX & 270.604 & 0.0 & 178.0 & 1236.5 &  &  & $\\dots$ \\\\\n",
       "\\end{tabular}\n"
      ],
      "text/plain": [
       "11×8 DataFrame. Omitted printing of 3 columns\n",
       "│ Row │ variable      │ mean     │ min           │ median │ max           │\n",
       "│     │ \u001b[90mSymbol\u001b[39m        │ \u001b[90mUnion…\u001b[39m   │ \u001b[90mAny\u001b[39m           │ \u001b[90mUnion…\u001b[39m │ \u001b[90mAny\u001b[39m           │\n",
       "├─────┼───────────────┼──────────┼───────────────┼────────┼───────────────┤\n",
       "│ 1   │ UNIT_NAME     │          │ ALLE_UN01     │        │ WSPN_CT01     │\n",
       "│ 2   │ CC_KEY        │ 0.347518 │ 0             │ 0.0    │ 4             │\n",
       "│ 3   │ EDITION       │          │ Actual        │        │ Actual        │\n",
       "│ 4   │ TIMEZONE      │          │ EDT           │        │ EST           │\n",
       "│ 5   │ BEGIN_DATE    │          │ 04/01/2018 00 │        │ 11/18/2018 00 │\n",
       "│ 6   │ EMERGENCY_MIN │ 119.333  │ 0             │ 97.0   │ 650           │\n",
       "│ 7   │ NORMAL_MIN    │ 118.411  │ 0             │ 97.0   │ 650           │\n",
       "│ 8   │ NORMAL_MAX    │ 276.632  │ 4.0           │ 178.0  │ 1236.5        │\n",
       "│ 9   │ EMERGENCY_MAX │ 276.632  │ 4.0           │ 178.0  │ 1236.5        │\n",
       "│ 10  │ REG_MIN       │ 126.667  │ 0             │ 98.0   │ 665           │\n",
       "│ 11  │ REG_MAX       │ 270.604  │ 0.0           │ 178.0  │ 1236.5        │"
      ]
     },
     "execution_count": 28,
     "metadata": {},
     "output_type": "execute_result"
    }
   ],
   "source": [
    "describe(dfUnitRateWinter)"
   ]
  },
  {
   "cell_type": "markdown",
   "metadata": {},
   "source": [
    "### File: xUnitStartupCharacteristic_(DEC 2019).csv"
   ]
  },
  {
   "cell_type": "code",
   "execution_count": 57,
   "metadata": {},
   "outputs": [
    {
     "data": {
      "text/plain": [
       "(161, 17)"
      ]
     },
     "execution_count": 57,
     "metadata": {},
     "output_type": "execute_result"
    }
   ],
   "source": [
    "size(dfUnitStartUpDEC)"
   ]
  },
  {
   "cell_type": "code",
   "execution_count": 58,
   "metadata": {},
   "outputs": [
    {
     "data": {
      "text/html": [
       "<table class=\"data-frame\"><thead><tr><th></th><th>variable</th><th>mean</th><th>min</th><th>median</th><th>max</th><th>nunique</th><th>nmissing</th></tr><tr><th></th><th>Symbol</th><th>Union…</th><th>Any</th><th>Union…</th><th>Any</th><th>Union…</th><th>Nothing</th></tr></thead><tbody><p>17 rows × 8 columns (omitted printing of 1 columns)</p><tr><th>1</th><td>UNIT_NAME</td><td></td><td>ALLE_UN01</td><td></td><td>RCKN_CT05</td><td>65</td><td></td></tr><tr><th>2</th><td>CC_KEY</td><td>0.111801</td><td>0</td><td>0.0</td><td>2</td><td></td><td></td></tr><tr><th>3</th><td>EDITION</td><td></td><td>Actual</td><td></td><td>Actual</td><td>1</td><td></td></tr><tr><th>4</th><td>STARTUP_FUEL_NAME</td><td></td><td>HYDR_KEOW</td><td></td><td>SOLR_DEC_C</td><td>24</td><td></td></tr><tr><th>5</th><td>MARKET_OR_CONTRACT</td><td></td><td>Contract</td><td></td><td>Contract</td><td>1</td><td></td></tr><tr><th>6</th><td>HOUR_1</td><td>8.17391</td><td>8</td><td>8.0</td><td>12</td><td></td><td></td></tr><tr><th>7</th><td>HOUR_2</td><td>53.1677</td><td>32</td><td>32.0</td><td>76</td><td></td><td></td></tr><tr><th>8</th><td>HOUR_3</td><td>106.733</td><td>72</td><td>72.0</td><td>144</td><td></td><td></td></tr><tr><th>9</th><td>MBTU_1</td><td>1719.6</td><td>0</td><td>1037.0</td><td>8810</td><td></td><td></td></tr><tr><th>10</th><td>MBTU_2</td><td>2272.3</td><td>0</td><td>1130.0</td><td>12202</td><td></td><td></td></tr><tr><th>11</th><td>MBTU_3</td><td>2489.52</td><td>0</td><td>1130.0</td><td>13554</td><td></td><td></td></tr><tr><th>12</th><td>COST_1</td><td>955.242</td><td>0</td><td>0.0</td><td>8000</td><td></td><td></td></tr><tr><th>13</th><td>COST_2</td><td>955.242</td><td>0</td><td>0.0</td><td>8000</td><td></td><td></td></tr><tr><th>14</th><td>COST_3</td><td>955.242</td><td>0</td><td>0.0</td><td>8000</td><td></td><td></td></tr><tr><th>15</th><td>SHUTDOWN_COST</td><td>45529.6</td><td>0</td><td>7416.0</td><td>201000</td><td></td><td></td></tr><tr><th>16</th><td>TIMEZONE</td><td></td><td>EDT</td><td></td><td>EST</td><td>2</td><td></td></tr><tr><th>17</th><td>BEGIN_DATE</td><td></td><td>2019-01-01</td><td></td><td>2021-01-05</td><td>11</td><td></td></tr></tbody></table>"
      ],
      "text/latex": [
       "\\begin{tabular}{r|cccccccc}\n",
       "\t& variable & mean & min & median & max & nunique & nmissing & \\\\\n",
       "\t\\hline\n",
       "\t& Symbol & Union… & Any & Union… & Any & Union… & Nothing & \\\\\n",
       "\t\\hline\n",
       "\t1 & UNIT\\_NAME &  & ALLE\\_UN01 &  & RCKN\\_CT05 & 65 &  & $\\dots$ \\\\\n",
       "\t2 & CC\\_KEY & 0.111801 & 0 & 0.0 & 2 &  &  & $\\dots$ \\\\\n",
       "\t3 & EDITION &  & Actual &  & Actual & 1 &  & $\\dots$ \\\\\n",
       "\t4 & STARTUP\\_FUEL\\_NAME &  & HYDR\\_KEOW &  & SOLR\\_DEC\\_C & 24 &  & $\\dots$ \\\\\n",
       "\t5 & MARKET\\_OR\\_CONTRACT &  & Contract &  & Contract & 1 &  & $\\dots$ \\\\\n",
       "\t6 & HOUR\\_1 & 8.17391 & 8 & 8.0 & 12 &  &  & $\\dots$ \\\\\n",
       "\t7 & HOUR\\_2 & 53.1677 & 32 & 32.0 & 76 &  &  & $\\dots$ \\\\\n",
       "\t8 & HOUR\\_3 & 106.733 & 72 & 72.0 & 144 &  &  & $\\dots$ \\\\\n",
       "\t9 & MBTU\\_1 & 1719.6 & 0 & 1037.0 & 8810 &  &  & $\\dots$ \\\\\n",
       "\t10 & MBTU\\_2 & 2272.3 & 0 & 1130.0 & 12202 &  &  & $\\dots$ \\\\\n",
       "\t11 & MBTU\\_3 & 2489.52 & 0 & 1130.0 & 13554 &  &  & $\\dots$ \\\\\n",
       "\t12 & COST\\_1 & 955.242 & 0 & 0.0 & 8000 &  &  & $\\dots$ \\\\\n",
       "\t13 & COST\\_2 & 955.242 & 0 & 0.0 & 8000 &  &  & $\\dots$ \\\\\n",
       "\t14 & COST\\_3 & 955.242 & 0 & 0.0 & 8000 &  &  & $\\dots$ \\\\\n",
       "\t15 & SHUTDOWN\\_COST & 45529.6 & 0 & 7416.0 & 201000 &  &  & $\\dots$ \\\\\n",
       "\t16 & TIMEZONE &  & EDT &  & EST & 2 &  & $\\dots$ \\\\\n",
       "\t17 & BEGIN\\_DATE &  & 2019-01-01 &  & 2021-01-05 & 11 &  & $\\dots$ \\\\\n",
       "\\end{tabular}\n"
      ],
      "text/plain": [
       "17×8 DataFrame. Omitted printing of 3 columns\n",
       "│ Row │ variable           │ mean     │ min        │ median │ max        │\n",
       "│     │ \u001b[90mSymbol\u001b[39m             │ \u001b[90mUnion…\u001b[39m   │ \u001b[90mAny\u001b[39m        │ \u001b[90mUnion…\u001b[39m │ \u001b[90mAny\u001b[39m        │\n",
       "├─────┼────────────────────┼──────────┼────────────┼────────┼────────────┤\n",
       "│ 1   │ UNIT_NAME          │          │ ALLE_UN01  │        │ RCKN_CT05  │\n",
       "│ 2   │ CC_KEY             │ 0.111801 │ 0          │ 0.0    │ 2          │\n",
       "│ 3   │ EDITION            │          │ Actual     │        │ Actual     │\n",
       "│ 4   │ STARTUP_FUEL_NAME  │          │ HYDR_KEOW  │        │ SOLR_DEC_C │\n",
       "│ 5   │ MARKET_OR_CONTRACT │          │ Contract   │        │ Contract   │\n",
       "│ 6   │ HOUR_1             │ 8.17391  │ 8          │ 8.0    │ 12         │\n",
       "│ 7   │ HOUR_2             │ 53.1677  │ 32         │ 32.0   │ 76         │\n",
       "│ 8   │ HOUR_3             │ 106.733  │ 72         │ 72.0   │ 144        │\n",
       "│ 9   │ MBTU_1             │ 1719.6   │ 0          │ 1037.0 │ 8810       │\n",
       "│ 10  │ MBTU_2             │ 2272.3   │ 0          │ 1130.0 │ 12202      │\n",
       "│ 11  │ MBTU_3             │ 2489.52  │ 0          │ 1130.0 │ 13554      │\n",
       "│ 12  │ COST_1             │ 955.242  │ 0          │ 0.0    │ 8000       │\n",
       "│ 13  │ COST_2             │ 955.242  │ 0          │ 0.0    │ 8000       │\n",
       "│ 14  │ COST_3             │ 955.242  │ 0          │ 0.0    │ 8000       │\n",
       "│ 15  │ SHUTDOWN_COST      │ 45529.6  │ 0          │ 7416.0 │ 201000     │\n",
       "│ 16  │ TIMEZONE           │          │ EDT        │        │ EST        │\n",
       "│ 17  │ BEGIN_DATE         │          │ 2019-01-01 │        │ 2021-01-05 │"
      ]
     },
     "execution_count": 58,
     "metadata": {},
     "output_type": "execute_result"
    }
   ],
   "source": [
    "describe(dfUnitStartUpDEC)"
   ]
  },
  {
   "cell_type": "code",
   "execution_count": 59,
   "metadata": {},
   "outputs": [
    {
     "name": "stdout",
     "output_type": "stream",
     "text": [
      "5×17 DataFrame\n",
      "│ Row │ UNIT_NAME │ CC_KEY │ EDITION │ STARTUP_FUEL_NAME │ MARKET_OR_CONTRACT │\n",
      "│     │ \u001b[90mString\u001b[39m    │ \u001b[90mInt64\u001b[39m  │ \u001b[90mString\u001b[39m  │ \u001b[90mString\u001b[39m            │ \u001b[90mString\u001b[39m             │\n",
      "├─────┼───────────┼────────┼─────────┼───────────────────┼────────────────────┤\n",
      "│ 1   │ ALLE_UN01 │ 0      │ Actual  │ LOIL_ALLE         │ Contract           │\n",
      "│ 2   │ ALLE_UN01 │ 0      │ Actual  │ LOIL_ALLE         │ Contract           │\n",
      "│ 3   │ ALLE_UN01 │ 0      │ Actual  │ LOIL_ALLE         │ Contract           │\n",
      "│ 4   │ ALLE_UN01 │ 0      │ Actual  │ LOIL_ALLE         │ Contract           │\n",
      "│ 5   │ ALLE_UN01 │ 0      │ Actual  │ LOIL_ALLE         │ Contract           │\n",
      "\n",
      "│ Row │ HOUR_1 │ HOUR_2 │ HOUR_3 │ MBTU_1 │ MBTU_2 │ MBTU_3 │ COST_1 │ COST_2 │\n",
      "│     │ \u001b[90mInt64\u001b[39m  │ \u001b[90mInt64\u001b[39m  │ \u001b[90mInt64\u001b[39m  │ \u001b[90mInt64\u001b[39m  │ \u001b[90mInt64\u001b[39m  │ \u001b[90mInt64\u001b[39m  │ \u001b[90mInt64\u001b[39m  │ \u001b[90mInt64\u001b[39m  │\n",
      "├─────┼────────┼────────┼────────┼────────┼────────┼────────┼────────┼────────┤\n",
      "│ 1   │ 8      │ 76     │ 144    │ 1046   │ 1594   │ 1822   │ 0      │ 0      │\n",
      "│ 2   │ 8      │ 76     │ 144    │ 1056   │ 1607   │ 1840   │ 0      │ 0      │\n",
      "│ 3   │ 8      │ 76     │ 144    │ 1056   │ 1607   │ 1840   │ 0      │ 0      │\n",
      "│ 4   │ 8      │ 76     │ 144    │ 950    │ 1460   │ 1650   │ 0      │ 0      │\n",
      "│ 5   │ 8      │ 76     │ 144    │ 950    │ 1460   │ 1650   │ 0      │ 0      │\n",
      "\n",
      "│ Row │ COST_3 │ SHUTDOWN_COST │ TIMEZONE │ BEGIN_DATE │\n",
      "│     │ \u001b[90mInt64\u001b[39m  │ \u001b[90mInt64\u001b[39m         │ \u001b[90mString\u001b[39m   │ \u001b[90mDate\u001b[39m       │\n",
      "├─────┼────────┼───────────────┼──────────┼────────────┤\n",
      "│ 1   │ 0      │ 41000         │ EST      │ 2019-01-11 │\n",
      "│ 2   │ 0      │ 41000         │ EST      │ 2019-01-25 │\n",
      "│ 3   │ 0      │ 43000         │ EST      │ 2020-01-01 │\n",
      "│ 4   │ 0      │ 43000         │ EST      │ 2020-12-15 │\n",
      "│ 5   │ 0      │ 42000         │ EST      │ 2021-01-05 │"
     ]
    }
   ],
   "source": [
    "show(dfUnitStartUpDEC[1:5,:], allcols=true)"
   ]
  },
  {
   "cell_type": "markdown",
   "metadata": {},
   "source": [
    "### File: xUnitStartupCharacteristic_(DEP 2019).csv"
   ]
  },
  {
   "cell_type": "code",
   "execution_count": 60,
   "metadata": {},
   "outputs": [
    {
     "data": {
      "text/plain": [
       "(237, 17)"
      ]
     },
     "execution_count": 60,
     "metadata": {},
     "output_type": "execute_result"
    }
   ],
   "source": [
    "size(dfUnitStartUpDEP)"
   ]
  },
  {
   "cell_type": "code",
   "execution_count": 61,
   "metadata": {},
   "outputs": [
    {
     "data": {
      "text/html": [
       "<table class=\"data-frame\"><thead><tr><th></th><th>variable</th><th>mean</th><th>min</th><th>median</th><th>max</th><th>nunique</th><th>nmissing</th></tr><tr><th></th><th>Symbol</th><th>Union…</th><th>Any</th><th>Union…</th><th>Any</th><th>Union…</th><th>Nothing</th></tr></thead><tbody><p>17 rows × 8 columns (omitted printing of 1 columns)</p><tr><th>1</th><td>UNIT_NAME</td><td></td><td>ASHV_CC01</td><td></td><td>WSPN_CT01</td><td>72</td><td></td></tr><tr><th>2</th><td>CC_KEY</td><td>0.518987</td><td>0</td><td>0.0</td><td>4</td><td></td><td></td></tr><tr><th>3</th><td>EDITION</td><td></td><td>Actual</td><td></td><td>Actual</td><td>1</td><td></td></tr><tr><th>4</th><td>STARTUP_FUEL_NAME</td><td></td><td>CCOA_MISC_CG01</td><td></td><td>SOLR_PEC_C</td><td>36</td><td></td></tr><tr><th>5</th><td>MARKET_OR_CONTRACT</td><td></td><td>Contract</td><td></td><td>Contract</td><td>1</td><td></td></tr><tr><th>6</th><td>HOUR_1</td><td>8.16878</td><td>8</td><td>8.0</td><td>12</td><td></td><td></td></tr><tr><th>7</th><td>HOUR_2</td><td>33.8565</td><td>32</td><td>32.0</td><td>60</td><td></td><td></td></tr><tr><th>8</th><td>HOUR_3</td><td>86.1772</td><td>72</td><td>72.0</td><td>144</td><td></td><td></td></tr><tr><th>9</th><td>MBTU_1</td><td>685.439</td><td>0</td><td>244.0</td><td>3897</td><td></td><td></td></tr><tr><th>10</th><td>MBTU_2</td><td>825.734</td><td>0</td><td>244.0</td><td>4783</td><td></td><td></td></tr><tr><th>11</th><td>MBTU_3</td><td>1054.97</td><td>0</td><td>244.0</td><td>7409</td><td></td><td></td></tr><tr><th>12</th><td>COST_1</td><td>3330.21</td><td>0.0</td><td>1821.0</td><td>12185.0</td><td></td><td></td></tr><tr><th>13</th><td>COST_2</td><td>3330.21</td><td>0.0</td><td>1821.0</td><td>12185.0</td><td></td><td></td></tr><tr><th>14</th><td>COST_3</td><td>3330.21</td><td>0.0</td><td>1821.0</td><td>12185.0</td><td></td><td></td></tr><tr><th>15</th><td>SHUTDOWN_COST</td><td>13861.0</td><td>0</td><td>0.0</td><td>137000</td><td></td><td></td></tr><tr><th>16</th><td>TIMEZONE</td><td></td><td>EDT</td><td></td><td>EST</td><td>2</td><td></td></tr><tr><th>17</th><td>BEGIN_DATE</td><td></td><td>2019-01-01</td><td></td><td>2023-12-01</td><td>26</td><td></td></tr></tbody></table>"
      ],
      "text/latex": [
       "\\begin{tabular}{r|cccccccc}\n",
       "\t& variable & mean & min & median & max & nunique & nmissing & \\\\\n",
       "\t\\hline\n",
       "\t& Symbol & Union… & Any & Union… & Any & Union… & Nothing & \\\\\n",
       "\t\\hline\n",
       "\t1 & UNIT\\_NAME &  & ASHV\\_CC01 &  & WSPN\\_CT01 & 72 &  & $\\dots$ \\\\\n",
       "\t2 & CC\\_KEY & 0.518987 & 0 & 0.0 & 4 &  &  & $\\dots$ \\\\\n",
       "\t3 & EDITION &  & Actual &  & Actual & 1 &  & $\\dots$ \\\\\n",
       "\t4 & STARTUP\\_FUEL\\_NAME &  & CCOA\\_MISC\\_CG01 &  & SOLR\\_PEC\\_C & 36 &  & $\\dots$ \\\\\n",
       "\t5 & MARKET\\_OR\\_CONTRACT &  & Contract &  & Contract & 1 &  & $\\dots$ \\\\\n",
       "\t6 & HOUR\\_1 & 8.16878 & 8 & 8.0 & 12 &  &  & $\\dots$ \\\\\n",
       "\t7 & HOUR\\_2 & 33.8565 & 32 & 32.0 & 60 &  &  & $\\dots$ \\\\\n",
       "\t8 & HOUR\\_3 & 86.1772 & 72 & 72.0 & 144 &  &  & $\\dots$ \\\\\n",
       "\t9 & MBTU\\_1 & 685.439 & 0 & 244.0 & 3897 &  &  & $\\dots$ \\\\\n",
       "\t10 & MBTU\\_2 & 825.734 & 0 & 244.0 & 4783 &  &  & $\\dots$ \\\\\n",
       "\t11 & MBTU\\_3 & 1054.97 & 0 & 244.0 & 7409 &  &  & $\\dots$ \\\\\n",
       "\t12 & COST\\_1 & 3330.21 & 0.0 & 1821.0 & 12185.0 &  &  & $\\dots$ \\\\\n",
       "\t13 & COST\\_2 & 3330.21 & 0.0 & 1821.0 & 12185.0 &  &  & $\\dots$ \\\\\n",
       "\t14 & COST\\_3 & 3330.21 & 0.0 & 1821.0 & 12185.0 &  &  & $\\dots$ \\\\\n",
       "\t15 & SHUTDOWN\\_COST & 13861.0 & 0 & 0.0 & 137000 &  &  & $\\dots$ \\\\\n",
       "\t16 & TIMEZONE &  & EDT &  & EST & 2 &  & $\\dots$ \\\\\n",
       "\t17 & BEGIN\\_DATE &  & 2019-01-01 &  & 2023-12-01 & 26 &  & $\\dots$ \\\\\n",
       "\\end{tabular}\n"
      ],
      "text/plain": [
       "17×8 DataFrame. Omitted printing of 3 columns\n",
       "│ Row │ variable           │ mean     │ min            │ median │ max        │\n",
       "│     │ \u001b[90mSymbol\u001b[39m             │ \u001b[90mUnion…\u001b[39m   │ \u001b[90mAny\u001b[39m            │ \u001b[90mUnion…\u001b[39m │ \u001b[90mAny\u001b[39m        │\n",
       "├─────┼────────────────────┼──────────┼────────────────┼────────┼────────────┤\n",
       "│ 1   │ UNIT_NAME          │          │ ASHV_CC01      │        │ WSPN_CT01  │\n",
       "│ 2   │ CC_KEY             │ 0.518987 │ 0              │ 0.0    │ 4          │\n",
       "│ 3   │ EDITION            │          │ Actual         │        │ Actual     │\n",
       "│ 4   │ STARTUP_FUEL_NAME  │          │ CCOA_MISC_CG01 │        │ SOLR_PEC_C │\n",
       "│ 5   │ MARKET_OR_CONTRACT │          │ Contract       │        │ Contract   │\n",
       "│ 6   │ HOUR_1             │ 8.16878  │ 8              │ 8.0    │ 12         │\n",
       "│ 7   │ HOUR_2             │ 33.8565  │ 32             │ 32.0   │ 60         │\n",
       "│ 8   │ HOUR_3             │ 86.1772  │ 72             │ 72.0   │ 144        │\n",
       "│ 9   │ MBTU_1             │ 685.439  │ 0              │ 244.0  │ 3897       │\n",
       "│ 10  │ MBTU_2             │ 825.734  │ 0              │ 244.0  │ 4783       │\n",
       "│ 11  │ MBTU_3             │ 1054.97  │ 0              │ 244.0  │ 7409       │\n",
       "│ 12  │ COST_1             │ 3330.21  │ 0.0            │ 1821.0 │ 12185.0    │\n",
       "│ 13  │ COST_2             │ 3330.21  │ 0.0            │ 1821.0 │ 12185.0    │\n",
       "│ 14  │ COST_3             │ 3330.21  │ 0.0            │ 1821.0 │ 12185.0    │\n",
       "│ 15  │ SHUTDOWN_COST      │ 13861.0  │ 0              │ 0.0    │ 137000     │\n",
       "│ 16  │ TIMEZONE           │          │ EDT            │        │ EST        │\n",
       "│ 17  │ BEGIN_DATE         │          │ 2019-01-01     │        │ 2023-12-01 │"
      ]
     },
     "execution_count": 61,
     "metadata": {},
     "output_type": "execute_result"
    }
   ],
   "source": [
    "describe(dfUnitStartUpDEP)"
   ]
  },
  {
   "cell_type": "code",
   "execution_count": 62,
   "metadata": {},
   "outputs": [
    {
     "name": "stdout",
     "output_type": "stream",
     "text": [
      "5×17 DataFrame\n",
      "│ Row │ UNIT_NAME │ CC_KEY │ EDITION │ STARTUP_FUEL_NAME │ MARKET_OR_CONTRACT │\n",
      "│     │ \u001b[90mString\u001b[39m    │ \u001b[90mInt64\u001b[39m  │ \u001b[90mString\u001b[39m  │ \u001b[90mString\u001b[39m            │ \u001b[90mString\u001b[39m             │\n",
      "├─────┼───────────┼────────┼─────────┼───────────────────┼────────────────────┤\n",
      "│ 1   │ ASHV_CC01 │ 1      │ Actual  │ NGAS_ASHV_CC01    │ Contract           │\n",
      "│ 2   │ ASHV_CC01 │ 1      │ Actual  │ NGAS_ASHV_CC01    │ Contract           │\n",
      "│ 3   │ ASHV_CC02 │ 1      │ Actual  │ NGAS_ASHV_CC02    │ Contract           │\n",
      "│ 4   │ ASHV_CC02 │ 1      │ Actual  │ NGAS_ASHV_CC02    │ Contract           │\n",
      "│ 5   │ ASHV_CT03 │ 0      │ Actual  │ NGAS_ASHV         │ Contract           │\n",
      "\n",
      "│ Row │ HOUR_1 │ HOUR_2 │ HOUR_3 │ MBTU_1 │ MBTU_2 │ MBTU_3 │ COST_1  │\n",
      "│     │ \u001b[90mInt64\u001b[39m  │ \u001b[90mInt64\u001b[39m  │ \u001b[90mInt64\u001b[39m  │ \u001b[90mInt64\u001b[39m  │ \u001b[90mInt64\u001b[39m  │ \u001b[90mInt64\u001b[39m  │ \u001b[90mFloat64\u001b[39m │\n",
      "├─────┼────────┼────────┼────────┼────────┼────────┼────────┼─────────┤\n",
      "│ 1   │ 8      │ 32     │ 72     │ 1249   │ 1249   │ 1249   │ 0.0     │\n",
      "│ 2   │ 8      │ 32     │ 72     │ 1249   │ 1249   │ 1249   │ 0.0     │\n",
      "│ 3   │ 8      │ 32     │ 72     │ 1249   │ 1249   │ 1249   │ 0.0     │\n",
      "│ 4   │ 8      │ 32     │ 72     │ 1249   │ 1249   │ 1249   │ 0.0     │\n",
      "│ 5   │ 8      │ 32     │ 72     │ 440    │ 440    │ 440    │ 6971.0  │\n",
      "\n",
      "│ Row │ COST_2  │ COST_3  │ SHUTDOWN_COST │ TIMEZONE │ BEGIN_DATE │\n",
      "│     │ \u001b[90mFloat64\u001b[39m │ \u001b[90mFloat64\u001b[39m │ \u001b[90mInt64\u001b[39m         │ \u001b[90mString\u001b[39m   │ \u001b[90mDate\u001b[39m       │\n",
      "├─────┼─────────┼─────────┼───────────────┼──────────┼────────────┤\n",
      "│ 1   │ 0.0     │ 0.0     │ 5194          │ EDT      │ 2019-08-01 │\n",
      "│ 2   │ 0.0     │ 0.0     │ 5194          │ EST      │ 2020-12-15 │\n",
      "│ 3   │ 0.0     │ 0.0     │ 5194          │ EDT      │ 2019-08-01 │\n",
      "│ 4   │ 0.0     │ 0.0     │ 5194          │ EST      │ 2020-12-15 │\n",
      "│ 5   │ 6971.0  │ 6971.0  │ 0             │ EST      │ 2020-12-15 │"
     ]
    }
   ],
   "source": [
    "show(dfUnitStartUpDEP[1:5,:], allcols=true)"
   ]
  },
  {
   "cell_type": "code",
   "execution_count": null,
   "metadata": {},
   "outputs": [],
   "source": []
  }
 ],
 "metadata": {
  "kernelspec": {
   "display_name": "Julia 1.5.2",
   "language": "julia",
   "name": "julia-1.5"
  },
  "language_info": {
   "file_extension": ".jl",
   "mimetype": "application/julia",
   "name": "julia",
   "version": "1.5.2"
  }
 },
 "nbformat": 4,
 "nbformat_minor": 4
}
